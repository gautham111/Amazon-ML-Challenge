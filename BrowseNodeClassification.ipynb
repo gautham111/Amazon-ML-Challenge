{
  "nbformat": 4,
  "nbformat_minor": 0,
  "metadata": {
    "colab": {
      "name": "BrowseNodeClassification.ipynb",
      "provenance": [],
      "collapsed_sections": [],
      "machine_shape": "hm",
      "include_colab_link": true
    },
    "kernelspec": {
      "name": "python3",
      "display_name": "Python 3"
    },
    "language_info": {
      "name": "python"
    }
  },
  "cells": [
    {
      "cell_type": "markdown",
      "metadata": {
        "id": "view-in-github",
        "colab_type": "text"
      },
      "source": [
        "<a href=\"https://colab.research.google.com/github/gautham111/Amazon-ML-Challenge/blob/main/BrowseNodeClassification.ipynb\" target=\"_parent\"><img src=\"https://colab.research.google.com/assets/colab-badge.svg\" alt=\"Open In Colab\"/></a>"
      ]
    },
    {
      "cell_type": "code",
      "metadata": {
        "id": "PPCtm_lJa38d"
      },
      "source": [
        "import pandas as pd\n",
        "import numpy as np\n",
        "import csv"
      ],
      "execution_count": null,
      "outputs": []
    },
    {
      "cell_type": "code",
      "metadata": {
        "id": "qB6fNviXmR6R",
        "colab": {
          "base_uri": "https://localhost:8080/"
        },
        "outputId": "9a185140-bc83-44f1-d0f9-7cd0a1ce23ab"
      },
      "source": [
        "from google.colab import drive\n",
        "drive.mount('/content/drive')"
      ],
      "execution_count": null,
      "outputs": [
        {
          "output_type": "stream",
          "text": [
            "Mounted at /content/drive\n"
          ],
          "name": "stdout"
        }
      ]
    },
    {
      "cell_type": "code",
      "metadata": {
        "id": "y52J9ezbrAXP"
      },
      "source": [
        "df = pd.read_csv(\"/content/drive/MyDrive/Colab Notebooks/dataset/train.csv\",escapechar = \"\\\\\", quoting=csv.QUOTE_NONE)"
      ],
      "execution_count": null,
      "outputs": []
    },
    {
      "cell_type": "code",
      "metadata": {
        "colab": {
          "base_uri": "https://localhost:8080/",
          "height": 284
        },
        "id": "8NkNDd4grOXH",
        "outputId": "44f9e81f-0787-45d6-f179-6cf38650bcc4"
      },
      "source": [
        "df.head()"
      ],
      "execution_count": null,
      "outputs": [
        {
          "output_type": "execute_result",
          "data": {
            "text/html": [
              "<div>\n",
              "<style scoped>\n",
              "    .dataframe tbody tr th:only-of-type {\n",
              "        vertical-align: middle;\n",
              "    }\n",
              "\n",
              "    .dataframe tbody tr th {\n",
              "        vertical-align: top;\n",
              "    }\n",
              "\n",
              "    .dataframe thead th {\n",
              "        text-align: right;\n",
              "    }\n",
              "</style>\n",
              "<table border=\"1\" class=\"dataframe\">\n",
              "  <thead>\n",
              "    <tr style=\"text-align: right;\">\n",
              "      <th></th>\n",
              "      <th>TITLE</th>\n",
              "      <th>DESCRIPTION</th>\n",
              "      <th>BULLET_POINTS</th>\n",
              "      <th>BRAND</th>\n",
              "      <th>BROWSE_NODE_ID</th>\n",
              "    </tr>\n",
              "  </thead>\n",
              "  <tbody>\n",
              "    <tr>\n",
              "      <th>0</th>\n",
              "      <td>Pete The Cat Bedtime Blues Doll, 14.5 Inch</td>\n",
              "      <td>Pete the Cat is the coolest, most popular cat ...</td>\n",
              "      <td>[Pete the Cat Bedtime Blues plush doll,Based o...</td>\n",
              "      <td>MerryMakers</td>\n",
              "      <td>0</td>\n",
              "    </tr>\n",
              "    <tr>\n",
              "      <th>1</th>\n",
              "      <td>The New Yorker NYHM014 Refrigerator Magnet, 2 ...</td>\n",
              "      <td>The New Yorker Handsome Cello Wrapped Hard Mag...</td>\n",
              "      <td>[Cat In A Tea Cup by New Yorker cover artist G...</td>\n",
              "      <td>The New Yorker</td>\n",
              "      <td>1</td>\n",
              "    </tr>\n",
              "    <tr>\n",
              "      <th>2</th>\n",
              "      <td>The Ultimate Self-Sufficiency Handbook: A Comp...</td>\n",
              "      <td>NaN</td>\n",
              "      <td>Skyhorse Publishing</td>\n",
              "      <td>imusti</td>\n",
              "      <td>2</td>\n",
              "    </tr>\n",
              "    <tr>\n",
              "      <th>3</th>\n",
              "      <td>Amway Nutrilite Kids Chewable Iron Tablets (100)</td>\n",
              "      <td>NaN</td>\n",
              "      <td>[Nutrilite Kids,Chewable Iron Tablets,Quantity...</td>\n",
              "      <td>Amway</td>\n",
              "      <td>3</td>\n",
              "    </tr>\n",
              "    <tr>\n",
              "      <th>4</th>\n",
              "      <td>Teacher Planner Company A4 6 Lesson Academic T...</td>\n",
              "      <td>NaN</td>\n",
              "      <td>NaN</td>\n",
              "      <td>NaN</td>\n",
              "      <td>4</td>\n",
              "    </tr>\n",
              "  </tbody>\n",
              "</table>\n",
              "</div>"
            ],
            "text/plain": [
              "                                               TITLE  ... BROWSE_NODE_ID\n",
              "0         Pete The Cat Bedtime Blues Doll, 14.5 Inch  ...              0\n",
              "1  The New Yorker NYHM014 Refrigerator Magnet, 2 ...  ...              1\n",
              "2  The Ultimate Self-Sufficiency Handbook: A Comp...  ...              2\n",
              "3   Amway Nutrilite Kids Chewable Iron Tablets (100)  ...              3\n",
              "4  Teacher Planner Company A4 6 Lesson Academic T...  ...              4\n",
              "\n",
              "[5 rows x 5 columns]"
            ]
          },
          "metadata": {
            "tags": []
          },
          "execution_count": 6
        }
      ]
    },
    {
      "cell_type": "code",
      "metadata": {
        "colab": {
          "base_uri": "https://localhost:8080/"
        },
        "id": "z99Nhh3IF7vY",
        "outputId": "fd6ff9d3-8efb-4d25-bf75-131a1dcb27e3"
      },
      "source": [
        "import nltk\n",
        "import re\n",
        "nltk.download(\"wordnet\")\n",
        "nltk.download('stopwords')\n",
        "nltk.download('punkt')"
      ],
      "execution_count": null,
      "outputs": [
        {
          "output_type": "stream",
          "text": [
            "[nltk_data] Downloading package wordnet to /root/nltk_data...\n",
            "[nltk_data]   Unzipping corpora/wordnet.zip.\n",
            "[nltk_data] Downloading package stopwords to /root/nltk_data...\n",
            "[nltk_data]   Unzipping corpora/stopwords.zip.\n",
            "[nltk_data] Downloading package punkt to /root/nltk_data...\n",
            "[nltk_data]   Unzipping tokenizers/punkt.zip.\n"
          ],
          "name": "stdout"
        },
        {
          "output_type": "execute_result",
          "data": {
            "text/plain": [
              "True"
            ]
          },
          "metadata": {
            "tags": []
          },
          "execution_count": 27
        }
      ]
    },
    {
      "cell_type": "code",
      "metadata": {
        "id": "zeGmRmlg3E3f"
      },
      "source": [
        "def dataset_preprocess(text):\n",
        "\n",
        "  # Convert to lower case\n",
        "  if type(text) == str:\n",
        "    text = text.lower() \n",
        "  \n",
        "  # Clean HTML tags and punctuation\n",
        "  cleanr = re.compile('<.*?>')\n",
        "  cleantext = re.sub(cleanr, '', text)\n",
        "\n",
        "  from nltk.tokenize import RegexpTokenizer\n",
        "  tokenizer1 = RegexpTokenizer(r'\\w+')\n",
        "  text = \" \".join(tokenizer1.tokenize(cleantext))\n",
        "\n",
        "  # Remove stop words\n",
        "  from nltk.corpus import stopwords\n",
        "  from nltk.tokenize import word_tokenize\n",
        "  stop_words = set(stopwords.words('english'))\n",
        "  word_tokens = word_tokenize(text)\n",
        "  filtered_sentence = [w for w in word_tokens if not w.lower() in stop_words]\n",
        "  text = \" \".join(filtered_sentence)\n",
        "\n",
        "  #Lemmatization\n",
        "  w_tokenizer = nltk.tokenize.WhitespaceTokenizer()\n",
        "  lemmatizer = nltk.stem.WordNetLemmatizer()\n",
        "  text = \" \".join([lemmatizer.lemmatize(w) for w in w_tokenizer.tokenize(text)])\n",
        "\n",
        "  return text  "
      ],
      "execution_count": null,
      "outputs": []
    },
    {
      "cell_type": "code",
      "metadata": {
        "colab": {
          "base_uri": "https://localhost:8080/"
        },
        "id": "5EIYgwSttian",
        "outputId": "0b34fff6-2211-4a22-c93f-23ca419134db"
      },
      "source": [
        "df.info()"
      ],
      "execution_count": null,
      "outputs": [
        {
          "output_type": "stream",
          "text": [
            "<class 'pandas.core.frame.DataFrame'>\n",
            "RangeIndex: 2903024 entries, 0 to 2903023\n",
            "Data columns (total 5 columns):\n",
            " #   Column          Dtype \n",
            "---  ------          ----- \n",
            " 0   TITLE           object\n",
            " 1   DESCRIPTION     object\n",
            " 2   BULLET_POINTS   object\n",
            " 3   BRAND           object\n",
            " 4   BROWSE_NODE_ID  int64 \n",
            "dtypes: int64(1), object(4)\n",
            "memory usage: 110.7+ MB\n"
          ],
          "name": "stdout"
        }
      ]
    },
    {
      "cell_type": "code",
      "metadata": {
        "colab": {
          "base_uri": "https://localhost:8080/"
        },
        "id": "lJoDngWutl6P",
        "outputId": "186463c6-67f6-4e16-b2fd-2e346c8fa9ee"
      },
      "source": [
        "df[\"BROWSE_NODE_ID\"].unique()"
      ],
      "execution_count": null,
      "outputs": [
        {
          "output_type": "execute_result",
          "data": {
            "text/plain": [
              "array([      0,       1,       2, ..., 2847632, 2860317, 2893574])"
            ]
          },
          "metadata": {
            "tags": []
          },
          "execution_count": 10
        }
      ]
    },
    {
      "cell_type": "code",
      "metadata": {
        "colab": {
          "base_uri": "https://localhost:8080/"
        },
        "id": "B5wCUNAgtsk5",
        "outputId": "5b8bf178-6bd8-41a1-908c-07b3dce606a1"
      },
      "source": [
        "len(df)"
      ],
      "execution_count": null,
      "outputs": [
        {
          "output_type": "execute_result",
          "data": {
            "text/plain": [
              "2903024"
            ]
          },
          "metadata": {
            "tags": []
          },
          "execution_count": 11
        }
      ]
    },
    {
      "cell_type": "code",
      "metadata": {
        "colab": {
          "base_uri": "https://localhost:8080/"
        },
        "id": "Uyj8Fey9w4UE",
        "outputId": "71664918-afb4-423b-e82b-b57eec60d7aa"
      },
      "source": [
        "df.columns"
      ],
      "execution_count": null,
      "outputs": [
        {
          "output_type": "execute_result",
          "data": {
            "text/plain": [
              "Index(['TITLE', 'DESCRIPTION', 'BULLET_POINTS', 'BRAND', 'BROWSE_NODE_ID'], dtype='object')"
            ]
          },
          "metadata": {
            "tags": []
          },
          "execution_count": 13
        }
      ]
    },
    {
      "cell_type": "code",
      "metadata": {
        "id": "b9dz99BNx0fn"
      },
      "source": [
        "unique_df = df.dropna(axis = 0)"
      ],
      "execution_count": null,
      "outputs": []
    },
    {
      "cell_type": "code",
      "metadata": {
        "colab": {
          "base_uri": "https://localhost:8080/"
        },
        "id": "TYcLp49azSlR",
        "outputId": "dff3bd38-ce38-4b54-ea53-c8f31638f4dc"
      },
      "source": [
        "len(unique_df)"
      ],
      "execution_count": null,
      "outputs": [
        {
          "output_type": "execute_result",
          "data": {
            "text/plain": [
              "2110586"
            ]
          },
          "metadata": {
            "tags": []
          },
          "execution_count": 10
        }
      ]
    },
    {
      "cell_type": "code",
      "metadata": {
        "colab": {
          "base_uri": "https://localhost:8080/",
          "height": 284
        },
        "id": "GX8Yvmq6zbvb",
        "outputId": "0dc26693-0da6-402b-a115-af46fc8deab5"
      },
      "source": [
        "unique_df.head()"
      ],
      "execution_count": null,
      "outputs": [
        {
          "output_type": "execute_result",
          "data": {
            "text/html": [
              "<div>\n",
              "<style scoped>\n",
              "    .dataframe tbody tr th:only-of-type {\n",
              "        vertical-align: middle;\n",
              "    }\n",
              "\n",
              "    .dataframe tbody tr th {\n",
              "        vertical-align: top;\n",
              "    }\n",
              "\n",
              "    .dataframe thead th {\n",
              "        text-align: right;\n",
              "    }\n",
              "</style>\n",
              "<table border=\"1\" class=\"dataframe\">\n",
              "  <thead>\n",
              "    <tr style=\"text-align: right;\">\n",
              "      <th></th>\n",
              "      <th>TITLE</th>\n",
              "      <th>DESCRIPTION</th>\n",
              "      <th>BULLET_POINTS</th>\n",
              "      <th>BRAND</th>\n",
              "      <th>BROWSE_NODE_ID</th>\n",
              "    </tr>\n",
              "  </thead>\n",
              "  <tbody>\n",
              "    <tr>\n",
              "      <th>0</th>\n",
              "      <td>Pete The Cat Bedtime Blues Doll, 14.5 Inch</td>\n",
              "      <td>Pete the Cat is the coolest, most popular cat ...</td>\n",
              "      <td>[Pete the Cat Bedtime Blues plush doll,Based o...</td>\n",
              "      <td>MerryMakers</td>\n",
              "      <td>0</td>\n",
              "    </tr>\n",
              "    <tr>\n",
              "      <th>1</th>\n",
              "      <td>The New Yorker NYHM014 Refrigerator Magnet, 2 ...</td>\n",
              "      <td>The New Yorker Handsome Cello Wrapped Hard Mag...</td>\n",
              "      <td>[Cat In A Tea Cup by New Yorker cover artist G...</td>\n",
              "      <td>The New Yorker</td>\n",
              "      <td>1</td>\n",
              "    </tr>\n",
              "    <tr>\n",
              "      <th>5</th>\n",
              "      <td>Men'S Full Sleeve Raglan T-Shirts Denim T-Shir...</td>\n",
              "      <td>Men'S Full Sleeve Raglan T-Shirts Denim T-Shir...</td>\n",
              "      <td>[Color: Blue,Sleeve: Full Sleeve,Material: Cot...</td>\n",
              "      <td>Bhavya Enterprise</td>\n",
              "      <td>5</td>\n",
              "    </tr>\n",
              "    <tr>\n",
              "      <th>6</th>\n",
              "      <td>Glance Women's Wallet (Black) (LW-21)</td>\n",
              "      <td>This Black wallet by Glance will be a treasure...</td>\n",
              "      <td>[The Most Comfortable Women's Wallet That You ...</td>\n",
              "      <td>Glance</td>\n",
              "      <td>6</td>\n",
              "    </tr>\n",
              "    <tr>\n",
              "      <th>7</th>\n",
              "      <td>Wild Animals Hungry Brain Educational Flash Ca...</td>\n",
              "      <td>Wild Animals are the animals that mostly stays...</td>\n",
              "      <td>[Playful learning: Flash cards develops the lo...</td>\n",
              "      <td>hungry brain</td>\n",
              "      <td>7</td>\n",
              "    </tr>\n",
              "  </tbody>\n",
              "</table>\n",
              "</div>"
            ],
            "text/plain": [
              "                                               TITLE  ... BROWSE_NODE_ID\n",
              "0         Pete The Cat Bedtime Blues Doll, 14.5 Inch  ...              0\n",
              "1  The New Yorker NYHM014 Refrigerator Magnet, 2 ...  ...              1\n",
              "5  Men'S Full Sleeve Raglan T-Shirts Denim T-Shir...  ...              5\n",
              "6              Glance Women's Wallet (Black) (LW-21)  ...              6\n",
              "7  Wild Animals Hungry Brain Educational Flash Ca...  ...              7\n",
              "\n",
              "[5 rows x 5 columns]"
            ]
          },
          "metadata": {
            "tags": []
          },
          "execution_count": 11
        }
      ]
    },
    {
      "cell_type": "code",
      "metadata": {
        "id": "IG7bLplGHKd6"
      },
      "source": [
        "unique_df[\"DESCRIPTION\"] = unique_df[\"DESCRIPTION\"].apply(dataset_preprocess)\n",
        "print(1)\n",
        "unique_df[\"TITLE\"] = unique_df[\"TITLE\"].apply(dataset_preprocess)\n",
        "print(2)\n",
        "unique_df[\"BULLET_POINTS\"] = unique_df[\"BULLET_POINTS\"].apply(dataset_preprocess)"
      ],
      "execution_count": null,
      "outputs": []
    },
    {
      "cell_type": "code",
      "metadata": {
        "colab": {
          "base_uri": "https://localhost:8080/",
          "height": 540
        },
        "id": "pjyqDr7GJkjx",
        "outputId": "a78b3df0-e446-41b2-a322-2b046b0a48de"
      },
      "source": [
        "unique_df.head(10)"
      ],
      "execution_count": null,
      "outputs": [
        {
          "output_type": "execute_result",
          "data": {
            "text/html": [
              "<div>\n",
              "<style scoped>\n",
              "    .dataframe tbody tr th:only-of-type {\n",
              "        vertical-align: middle;\n",
              "    }\n",
              "\n",
              "    .dataframe tbody tr th {\n",
              "        vertical-align: top;\n",
              "    }\n",
              "\n",
              "    .dataframe thead th {\n",
              "        text-align: right;\n",
              "    }\n",
              "</style>\n",
              "<table border=\"1\" class=\"dataframe\">\n",
              "  <thead>\n",
              "    <tr style=\"text-align: right;\">\n",
              "      <th></th>\n",
              "      <th>TITLE</th>\n",
              "      <th>DESCRIPTION</th>\n",
              "      <th>BULLET_POINTS</th>\n",
              "      <th>BRAND</th>\n",
              "      <th>BROWSE_NODE_ID</th>\n",
              "    </tr>\n",
              "  </thead>\n",
              "  <tbody>\n",
              "    <tr>\n",
              "      <th>0</th>\n",
              "      <td>Pete The Cat Bedtime Blues Doll 14 5 Inch</td>\n",
              "      <td>Pete the Cat is the coolest most popular cat i...</td>\n",
              "      <td>Pete the Cat Bedtime Blues plush doll Based on...</td>\n",
              "      <td>MerryMakers</td>\n",
              "      <td>0</td>\n",
              "    </tr>\n",
              "    <tr>\n",
              "      <th>1</th>\n",
              "      <td>The New Yorker NYHM014 Refrigerator Magnet 2 x...</td>\n",
              "      <td>The New Yorker Handsome Cello Wrapped Hard Mag...</td>\n",
              "      <td>Cat In A Tea Cup by New Yorker cover artist Gu...</td>\n",
              "      <td>The New Yorker</td>\n",
              "      <td>1</td>\n",
              "    </tr>\n",
              "    <tr>\n",
              "      <th>5</th>\n",
              "      <td>Men S Full Sleeve Raglan T Shirts Denim T Shir...</td>\n",
              "      <td>Men S Full Sleeve Raglan T Shirts Denim T Shir...</td>\n",
              "      <td>Color Blue Sleeve Full Sleeve Material Cotton ...</td>\n",
              "      <td>Bhavya Enterprise</td>\n",
              "      <td>5</td>\n",
              "    </tr>\n",
              "    <tr>\n",
              "      <th>6</th>\n",
              "      <td>Glance Women s Wallet Black LW 21</td>\n",
              "      <td>This Black wallet by Glance will be a treasure...</td>\n",
              "      <td>The Most Comfortable Women s Wallet That You W...</td>\n",
              "      <td>Glance</td>\n",
              "      <td>6</td>\n",
              "    </tr>\n",
              "    <tr>\n",
              "      <th>7</th>\n",
              "      <td>Wild Animals Hungry Brain Educational Flash Ca...</td>\n",
              "      <td>Wild Animals are the animals that mostly stays...</td>\n",
              "      <td>Playful learning Flash cards develops the love...</td>\n",
              "      <td>hungry brain</td>\n",
              "      <td>7</td>\n",
              "    </tr>\n",
              "    <tr>\n",
              "      <th>8</th>\n",
              "      <td>Hindi Barakhadi Educational Flash Cards for Ki...</td>\n",
              "      <td>Hindi vowel signs and sounds are very importan...</td>\n",
              "      <td>Playful learning Flash cards develops the love...</td>\n",
              "      <td>hungry brain</td>\n",
              "      <td>7</td>\n",
              "    </tr>\n",
              "    <tr>\n",
              "      <th>11</th>\n",
              "      <td>White Braun KF400 WH Aromaster 10 Cup Coffeema...</td>\n",
              "      <td>Color White Product description 10 Cup Carafe ...</td>\n",
              "      <td>Water dispersal system provides fast uniform s...</td>\n",
              "      <td>Braun</td>\n",
              "      <td>11</td>\n",
              "    </tr>\n",
              "    <tr>\n",
              "      <th>14</th>\n",
              "      <td>Jiffy Steamer with Plastic Steam Head Beige 120V</td>\n",
              "      <td>Jiffy J 2000 clothes steamer 1300 watts with p...</td>\n",
              "      <td>1300 watt solid brass heating element 120 volt...</td>\n",
              "      <td>Jiffy</td>\n",
              "      <td>14</td>\n",
              "    </tr>\n",
              "    <tr>\n",
              "      <th>16</th>\n",
              "      <td>OXO Good Grips BPA Free Turkey Baster with Cle...</td>\n",
              "      <td>OXO Good Grips Turkey BasterUnique collar and ...</td>\n",
              "      <td>Unique bulb shape and collar for two comfortab...</td>\n",
              "      <td>OXO</td>\n",
              "      <td>16</td>\n",
              "    </tr>\n",
              "    <tr>\n",
              "      <th>18</th>\n",
              "      <td>Westcott 5684 5 x 6 Feet Collapsible Backdrop ...</td>\n",
              "      <td>Westcott offers many styles and colors of qual...</td>\n",
              "      <td>Effortlessly opens and collapses in seconds Be...</td>\n",
              "      <td>Westcott</td>\n",
              "      <td>18</td>\n",
              "    </tr>\n",
              "  </tbody>\n",
              "</table>\n",
              "</div>"
            ],
            "text/plain": [
              "                                                TITLE  ... BROWSE_NODE_ID\n",
              "0           Pete The Cat Bedtime Blues Doll 14 5 Inch  ...              0\n",
              "1   The New Yorker NYHM014 Refrigerator Magnet 2 x...  ...              1\n",
              "5   Men S Full Sleeve Raglan T Shirts Denim T Shir...  ...              5\n",
              "6                   Glance Women s Wallet Black LW 21  ...              6\n",
              "7   Wild Animals Hungry Brain Educational Flash Ca...  ...              7\n",
              "8   Hindi Barakhadi Educational Flash Cards for Ki...  ...              7\n",
              "11  White Braun KF400 WH Aromaster 10 Cup Coffeema...  ...             11\n",
              "14   Jiffy Steamer with Plastic Steam Head Beige 120V  ...             14\n",
              "16  OXO Good Grips BPA Free Turkey Baster with Cle...  ...             16\n",
              "18  Westcott 5684 5 x 6 Feet Collapsible Backdrop ...  ...             18\n",
              "\n",
              "[10 rows x 5 columns]"
            ]
          },
          "metadata": {
            "tags": []
          },
          "execution_count": 134
        }
      ]
    },
    {
      "cell_type": "code",
      "metadata": {
        "colab": {
          "base_uri": "https://localhost:8080/"
        },
        "id": "cY6qZZSpKh_C",
        "outputId": "f159bcdc-29c1-49eb-fdbf-dd1a51e68d4c"
      },
      "source": [
        "len(unique_df)"
      ],
      "execution_count": null,
      "outputs": [
        {
          "output_type": "execute_result",
          "data": {
            "text/plain": [
              "2110586"
            ]
          },
          "metadata": {
            "tags": []
          },
          "execution_count": 137
        }
      ]
    },
    {
      "cell_type": "code",
      "metadata": {
        "id": "s1-vdHjeKnxj"
      },
      "source": [
        "unique_df.to_csv(\"/content/drive/MyDrive/Amazon_ML_Challenge/cleaned_train.csv\")"
      ],
      "execution_count": null,
      "outputs": []
    },
    {
      "cell_type": "code",
      "metadata": {
        "id": "CaAMJrE-QjbK"
      },
      "source": [
        "unique_df = pd.read_csv(\"/content/drive/MyDrive/Amazon_ML_Challenge/cleaned_train.csv\").drop(\"Unnamed: 0\",axis = 1)"
      ],
      "execution_count": null,
      "outputs": []
    },
    {
      "cell_type": "code",
      "metadata": {
        "id": "sMD7e0nqNXF2"
      },
      "source": [
        "X = unique_df.drop(\"BROWSE_NODE_ID\",axis = 1)"
      ],
      "execution_count": null,
      "outputs": []
    },
    {
      "cell_type": "code",
      "metadata": {
        "colab": {
          "base_uri": "https://localhost:8080/",
          "height": 548
        },
        "id": "PWCEsayuRjEO",
        "outputId": "c972ef3d-bbe3-4214-b910-1ef35344aa46"
      },
      "source": [
        "X.astype(str)"
      ],
      "execution_count": null,
      "outputs": [
        {
          "output_type": "execute_result",
          "data": {
            "text/html": [
              "<div>\n",
              "<style scoped>\n",
              "    .dataframe tbody tr th:only-of-type {\n",
              "        vertical-align: middle;\n",
              "    }\n",
              "\n",
              "    .dataframe tbody tr th {\n",
              "        vertical-align: top;\n",
              "    }\n",
              "\n",
              "    .dataframe thead th {\n",
              "        text-align: right;\n",
              "    }\n",
              "</style>\n",
              "<table border=\"1\" class=\"dataframe\">\n",
              "  <thead>\n",
              "    <tr style=\"text-align: right;\">\n",
              "      <th></th>\n",
              "      <th>TITLE</th>\n",
              "      <th>DESCRIPTION</th>\n",
              "      <th>BULLET_POINTS</th>\n",
              "      <th>BRAND</th>\n",
              "    </tr>\n",
              "  </thead>\n",
              "  <tbody>\n",
              "    <tr>\n",
              "      <th>0</th>\n",
              "      <td>Pete The Cat Bedtime Blues Doll 14 5 Inch</td>\n",
              "      <td>Pete the Cat is the coolest most popular cat i...</td>\n",
              "      <td>Pete the Cat Bedtime Blues plush doll Based on...</td>\n",
              "      <td>MerryMakers</td>\n",
              "    </tr>\n",
              "    <tr>\n",
              "      <th>1</th>\n",
              "      <td>The New Yorker NYHM014 Refrigerator Magnet 2 x...</td>\n",
              "      <td>The New Yorker Handsome Cello Wrapped Hard Mag...</td>\n",
              "      <td>Cat In A Tea Cup by New Yorker cover artist Gu...</td>\n",
              "      <td>The New Yorker</td>\n",
              "    </tr>\n",
              "    <tr>\n",
              "      <th>2</th>\n",
              "      <td>Men S Full Sleeve Raglan T Shirts Denim T Shir...</td>\n",
              "      <td>Men S Full Sleeve Raglan T Shirts Denim T Shir...</td>\n",
              "      <td>Color Blue Sleeve Full Sleeve Material Cotton ...</td>\n",
              "      <td>Bhavya Enterprise</td>\n",
              "    </tr>\n",
              "    <tr>\n",
              "      <th>3</th>\n",
              "      <td>Glance Women s Wallet Black LW 21</td>\n",
              "      <td>This Black wallet by Glance will be a treasure...</td>\n",
              "      <td>The Most Comfortable Women s Wallet That You W...</td>\n",
              "      <td>Glance</td>\n",
              "    </tr>\n",
              "    <tr>\n",
              "      <th>4</th>\n",
              "      <td>Wild Animals Hungry Brain Educational Flash Ca...</td>\n",
              "      <td>Wild Animals are the animals that mostly stays...</td>\n",
              "      <td>Playful learning Flash cards develops the love...</td>\n",
              "      <td>hungry brain</td>\n",
              "    </tr>\n",
              "    <tr>\n",
              "      <th>...</th>\n",
              "      <td>...</td>\n",
              "      <td>...</td>\n",
              "      <td>...</td>\n",
              "      <td>...</td>\n",
              "    </tr>\n",
              "    <tr>\n",
              "      <th>2110581</th>\n",
              "      <td>The NXT LVL Liquid Silicone Soft Back Cover Ca...</td>\n",
              "      <td>Product color may slightly vary due to photogr...</td>\n",
              "      <td>Liquid silicone case compatible with apple pro...</td>\n",
              "      <td>Generic</td>\n",
              "    </tr>\n",
              "    <tr>\n",
              "      <th>2110582</th>\n",
              "      <td>Premium Aviator Sunglasses HD Polarized Bright...</td>\n",
              "      <td>These premium Aviator Sunglasses with 5 color ...</td>\n",
              "      <td>Frame size Lens height 56mm Lens width 58 mm n...</td>\n",
              "      <td>Generic</td>\n",
              "    </tr>\n",
              "    <tr>\n",
              "      <th>2110583</th>\n",
              "      <td>Social Distance Stickers Set of 5 Sticker Slip...</td>\n",
              "      <td>set of 5 prints social distancing sticker self...</td>\n",
              "      <td>covid19 safety sticker set of 5 to maintain cr...</td>\n",
              "      <td>Generic</td>\n",
              "    </tr>\n",
              "    <tr>\n",
              "      <th>2110584</th>\n",
              "      <td>Torr to Face Shield PACK OF 5 with Adjustable ...</td>\n",
              "      <td>COMPLETE FACE PROTECTION Torr to Face Shield e...</td>\n",
              "      <td>350 MICRONS PACK OF 5 PCS COMPLETE FACE PROTEC...</td>\n",
              "      <td>TORR-TO</td>\n",
              "    </tr>\n",
              "    <tr>\n",
              "      <th>2110585</th>\n",
              "      <td>Type C to 3 5 MM for Oppo R17 Pro Type C to 3 ...</td>\n",
              "      <td>Still want to use your favorite earphones head...</td>\n",
              "      <td>Indian Connectors Made for Indian sockets the ...</td>\n",
              "      <td>SHOPBELL</td>\n",
              "    </tr>\n",
              "  </tbody>\n",
              "</table>\n",
              "<p>2110586 rows × 4 columns</p>\n",
              "</div>"
            ],
            "text/plain": [
              "                                                     TITLE  ...              BRAND\n",
              "0                Pete The Cat Bedtime Blues Doll 14 5 Inch  ...        MerryMakers\n",
              "1        The New Yorker NYHM014 Refrigerator Magnet 2 x...  ...     The New Yorker\n",
              "2        Men S Full Sleeve Raglan T Shirts Denim T Shir...  ...  Bhavya Enterprise\n",
              "3                        Glance Women s Wallet Black LW 21  ...             Glance\n",
              "4        Wild Animals Hungry Brain Educational Flash Ca...  ...       hungry brain\n",
              "...                                                    ...  ...                ...\n",
              "2110581  The NXT LVL Liquid Silicone Soft Back Cover Ca...  ...            Generic\n",
              "2110582  Premium Aviator Sunglasses HD Polarized Bright...  ...            Generic\n",
              "2110583  Social Distance Stickers Set of 5 Sticker Slip...  ...            Generic\n",
              "2110584  Torr to Face Shield PACK OF 5 with Adjustable ...  ...            TORR-TO\n",
              "2110585  Type C to 3 5 MM for Oppo R17 Pro Type C to 3 ...  ...           SHOPBELL\n",
              "\n",
              "[2110586 rows x 4 columns]"
            ]
          },
          "metadata": {
            "tags": []
          },
          "execution_count": 13
        }
      ]
    },
    {
      "cell_type": "code",
      "metadata": {
        "id": "47pOgnnQPHgF"
      },
      "source": [
        "df = pd.read_csv(\"/content/drive/MyDrive/Amazon_ML_Challenge/cleaned_train.csv\").drop(\"Unnamed: 0\",axis = 1).dropna(axis = 0)"
      ],
      "execution_count": null,
      "outputs": []
    },
    {
      "cell_type": "code",
      "metadata": {
        "id": "rGjNKsIDvrBt"
      },
      "source": [
        "df = df.applymap(lambda s: s.lower() if type(s) == str else s)"
      ],
      "execution_count": null,
      "outputs": []
    },
    {
      "cell_type": "code",
      "metadata": {
        "id": "rxWlTC1rtg3D"
      },
      "source": [
        "X = df.drop(\"BROWSE_NODE_ID\",axis = 1)"
      ],
      "execution_count": null,
      "outputs": []
    },
    {
      "cell_type": "code",
      "metadata": {
        "id": "rjInlZIXtoOz"
      },
      "source": [
        "y = df[\"BROWSE_NODE_ID\"]"
      ],
      "execution_count": null,
      "outputs": []
    },
    {
      "cell_type": "code",
      "metadata": {
        "id": "bCg8JBHHsylU"
      },
      "source": [
        "from nltk.corpus import stopwords\n",
        "from nltk.tokenize import word_tokenize\n",
        "stop_words = set(stopwords.words('english'))\n",
        "def remove_stop_words(text):\n",
        "  word_tokens = word_tokenize(text)\n",
        "  filtered_sentence = [w for w in word_tokens if not w.lower() in stop_words]\n",
        "  text = \" \".join(filtered_sentence)\n",
        "  return text"
      ],
      "execution_count": null,
      "outputs": []
    },
    {
      "cell_type": "code",
      "metadata": {
        "id": "T0iuf0UWtvpF"
      },
      "source": [
        "X = X.apply(\" \".join, axis = 1)"
      ],
      "execution_count": null,
      "outputs": []
    },
    {
      "cell_type": "code",
      "metadata": {
        "id": "N070dmsntvi_"
      },
      "source": [
        "X = X.apply(remove_stop_words)"
      ],
      "execution_count": null,
      "outputs": []
    },
    {
      "cell_type": "code",
      "metadata": {
        "id": "zA3cIhaG4BD6"
      },
      "source": [
        "X.to_csv(\"/content/drive/MyDrive/Amazon_ML_Challenge/X.csv\")\n",
        "y.to_csv(\"/content/drive/MyDrive/Amazon_ML_Challenge/y.csv\")"
      ],
      "execution_count": null,
      "outputs": []
    },
    {
      "cell_type": "code",
      "metadata": {
        "id": "pfM_uGKAVIpT"
      },
      "source": [
        "X_NaN = pd.read_csv(\"/content/drive/MyDrive/Amazon_ML_Challenge/X_NaN.csv\")"
      ],
      "execution_count": null,
      "outputs": []
    },
    {
      "cell_type": "code",
      "metadata": {
        "id": "jiphTOrdVRqe"
      },
      "source": [
        "X_NaN.columns = [\"INPUT\"]"
      ],
      "execution_count": null,
      "outputs": []
    },
    {
      "cell_type": "code",
      "metadata": {
        "id": "lcrhsEFnVRoH"
      },
      "source": [
        "y_NaN = pd.read_csv(\"/content/drive/MyDrive/Amazon_ML_Challenge/Y_NaN.csv\")"
      ],
      "execution_count": null,
      "outputs": []
    },
    {
      "cell_type": "code",
      "metadata": {
        "id": "XH5wWFgTVrEy"
      },
      "source": [
        "y_NaN.columns = [\"BROWSE_NODE_ID\"]"
      ],
      "execution_count": null,
      "outputs": []
    },
    {
      "cell_type": "code",
      "metadata": {
        "id": "uIeZ2fLPV4nl"
      },
      "source": [
        "X_final = pd.concat([X,X_NaN],axis = 0)"
      ],
      "execution_count": null,
      "outputs": []
    },
    {
      "cell_type": "code",
      "metadata": {
        "id": "NZCBtwOzWL15"
      },
      "source": [
        "y_final = pd.concat([y,y_NaN],axis = 0)"
      ],
      "execution_count": null,
      "outputs": []
    },
    {
      "cell_type": "code",
      "metadata": {
        "id": "0zi5IkMlXq-f"
      },
      "source": [
        "X_final.to_csv(\"/content/drive/MyDrive/Amazon_ML_Challenge/X_final.csv\")\n",
        "y_final.to_csv(\"/content/drive/MyDrive/Amazon_ML_Challenge/y_final.csv\")"
      ],
      "execution_count": null,
      "outputs": []
    },
    {
      "cell_type": "code",
      "metadata": {
        "colab": {
          "base_uri": "https://localhost:8080/"
        },
        "id": "zD-VphbZWP7c",
        "outputId": "e43900f2-1184-49c7-b418-d867a169f4ee"
      },
      "source": [
        "y_final.isna().sum()"
      ],
      "execution_count": null,
      "outputs": [
        {
          "output_type": "execute_result",
          "data": {
            "text/plain": [
              "BROWSE_NODE_ID    0\n",
              "dtype: int64"
            ]
          },
          "metadata": {
            "tags": []
          },
          "execution_count": 72
        }
      ]
    },
    {
      "cell_type": "code",
      "metadata": {
        "id": "kWOkPiP8B5aH"
      },
      "source": [
        "data = pd.concat([X,y],axis = 1)\n",
        "data.columns = [\"INPUT\",\"BROWSE_NODE_ID\"]"
      ],
      "execution_count": null,
      "outputs": []
    },
    {
      "cell_type": "code",
      "metadata": {
        "colab": {
          "base_uri": "https://localhost:8080/",
          "height": 221
        },
        "id": "41hE4GUtCToy",
        "outputId": "87128c84-de76-49b9-d60a-db94953dd472"
      },
      "source": [
        "data.head()"
      ],
      "execution_count": null,
      "outputs": [
        {
          "output_type": "execute_result",
          "data": {
            "text/html": [
              "<div>\n",
              "<style scoped>\n",
              "    .dataframe tbody tr th:only-of-type {\n",
              "        vertical-align: middle;\n",
              "    }\n",
              "\n",
              "    .dataframe tbody tr th {\n",
              "        vertical-align: top;\n",
              "    }\n",
              "\n",
              "    .dataframe thead th {\n",
              "        text-align: right;\n",
              "    }\n",
              "</style>\n",
              "<table border=\"1\" class=\"dataframe\">\n",
              "  <thead>\n",
              "    <tr style=\"text-align: right;\">\n",
              "      <th></th>\n",
              "      <th>INPUT</th>\n",
              "      <th>BROWSE_NODE_ID</th>\n",
              "    </tr>\n",
              "  </thead>\n",
              "  <tbody>\n",
              "    <tr>\n",
              "      <th>0</th>\n",
              "      <td>pete cat bedtime blues doll 14 5 inch pete cat...</td>\n",
              "      <td>0</td>\n",
              "    </tr>\n",
              "    <tr>\n",
              "      <th>1</th>\n",
              "      <td>new yorker nyhm014 refrigerator magnet 2 x 3 5...</td>\n",
              "      <td>1</td>\n",
              "    </tr>\n",
              "    <tr>\n",
              "      <th>2</th>\n",
              "      <td>men full sleeve raglan shirts denim shirt size...</td>\n",
              "      <td>5</td>\n",
              "    </tr>\n",
              "    <tr>\n",
              "      <th>3</th>\n",
              "      <td>glance women wallet black lw 21 black wallet g...</td>\n",
              "      <td>6</td>\n",
              "    </tr>\n",
              "    <tr>\n",
              "      <th>4</th>\n",
              "      <td>wild animals hungry brain educational flash ca...</td>\n",
              "      <td>7</td>\n",
              "    </tr>\n",
              "  </tbody>\n",
              "</table>\n",
              "</div>"
            ],
            "text/plain": [
              "                                               INPUT  BROWSE_NODE_ID\n",
              "0  pete cat bedtime blues doll 14 5 inch pete cat...               0\n",
              "1  new yorker nyhm014 refrigerator magnet 2 x 3 5...               1\n",
              "2  men full sleeve raglan shirts denim shirt size...               5\n",
              "3  glance women wallet black lw 21 black wallet g...               6\n",
              "4  wild animals hungry brain educational flash ca...               7"
            ]
          },
          "metadata": {
            "tags": []
          },
          "execution_count": 66
        }
      ]
    },
    {
      "cell_type": "code",
      "metadata": {
        "colab": {
          "base_uri": "https://localhost:8080/"
        },
        "id": "IjjZXGxBCW28",
        "outputId": "65969a6b-8421-4ca9-f19b-d13e3b1bf521"
      },
      "source": [
        "temp = data.groupby([\"BROWSE_NODE_ID\"]).size()\n",
        "temp"
      ],
      "execution_count": null,
      "outputs": [
        {
          "output_type": "execute_result",
          "data": {
            "text/plain": [
              "BROWSE_NODE_ID\n",
              "0           1655\n",
              "1           1659\n",
              "3            239\n",
              "4          11090\n",
              "5          44470\n",
              "           ...  \n",
              "2779346        1\n",
              "2801478        1\n",
              "2801983        1\n",
              "2847632        1\n",
              "2893574        1\n",
              "Length: 9635, dtype: int64"
            ]
          },
          "metadata": {
            "tags": []
          },
          "execution_count": 38
        }
      ]
    },
    {
      "cell_type": "code",
      "metadata": {
        "id": "noXbO-hzCtbc"
      },
      "source": [
        "index_list = []\n",
        "for i in temp.index:\n",
        "  if temp[i] > 2:\n",
        "    index_list.append(i)"
      ],
      "execution_count": null,
      "outputs": []
    },
    {
      "cell_type": "code",
      "metadata": {
        "id": "EOyKCX-IEVBd"
      },
      "source": [
        "for i in data.index:\n",
        "  if data[\"BROWSE_NODE_ID\"][i] not in index_list:\n",
        "    data.drop(i,axis = 0,inplace = True)"
      ],
      "execution_count": null,
      "outputs": []
    },
    {
      "cell_type": "code",
      "metadata": {
        "id": "DPlzGvomMqFY"
      },
      "source": [
        "data.to_csv(\"/content/drive/MyDrive/Amazon_ML_Challenge/data.csv\")"
      ],
      "execution_count": null,
      "outputs": []
    },
    {
      "cell_type": "code",
      "metadata": {
        "id": "DRummyjVOLsK"
      },
      "source": [
        "# X.csv --- y.csv"
      ],
      "execution_count": null,
      "outputs": []
    },
    {
      "cell_type": "code",
      "metadata": {
        "id": "G4nu-sQPOLp8"
      },
      "source": [
        "X = pd.read_csv(\"/content/drive/MyDrive/Amazon_ML_Challenge/X.csv\").drop(\"Unnamed: 0\",axis = 1)"
      ],
      "execution_count": null,
      "outputs": []
    },
    {
      "cell_type": "code",
      "metadata": {
        "id": "WhUUVdaLPQJZ"
      },
      "source": [
        "X.columns = [\"INPUT\"]"
      ],
      "execution_count": null,
      "outputs": []
    },
    {
      "cell_type": "code",
      "metadata": {
        "id": "lFDdxqn7OLnV"
      },
      "source": [
        "y = pd.read_csv(\"/content/drive/MyDrive/Amazon_ML_Challenge/y.csv\")"
      ],
      "execution_count": null,
      "outputs": []
    },
    {
      "cell_type": "code",
      "metadata": {
        "id": "3V9W2FwHOLkd"
      },
      "source": [
        "y.drop(\"Unnamed: 0\",axis = 1,inplace=True)"
      ],
      "execution_count": null,
      "outputs": []
    },
    {
      "cell_type": "code",
      "metadata": {
        "id": "XTcCdZPqOLeu"
      },
      "source": [
        "X[\"INPUT\"] = X[\"INPUT\"].apply(lemmatize)"
      ],
      "execution_count": null,
      "outputs": []
    },
    {
      "cell_type": "code",
      "metadata": {
        "id": "erek9H_LUDXT"
      },
      "source": [
        "X.to_csv(\"/content/drive/MyDrive/Amazon_ML_Challenge/X.csv\")"
      ],
      "execution_count": null,
      "outputs": []
    },
    {
      "cell_type": "code",
      "metadata": {
        "id": "9btXS97XUNnL"
      },
      "source": [
        "y.to_csv(\"/content/drive/MyDrive/Amazon_ML_Challenge/y.csv\")"
      ],
      "execution_count": null,
      "outputs": []
    },
    {
      "cell_type": "code",
      "metadata": {
        "id": "T8ykB24TUcCO"
      },
      "source": [
        ""
      ],
      "execution_count": null,
      "outputs": []
    },
    {
      "cell_type": "code",
      "metadata": {
        "id": "-M5OQUPK9N7E"
      },
      "source": [
        "# DATA.CSV --> 31.07.2021"
      ],
      "execution_count": null,
      "outputs": []
    },
    {
      "cell_type": "code",
      "metadata": {
        "id": "2JGrMM_t9UV7"
      },
      "source": [
        "w_tokenizer = nltk.tokenize.WhitespaceTokenizer()\n",
        "lemmatizer = nltk.stem.WordNetLemmatizer()\n",
        "def lemmatize(text):\n",
        "  text = \" \".join([lemmatizer.lemmatize(w) for w in w_tokenizer.tokenize(text)])\n",
        "  return text"
      ],
      "execution_count": null,
      "outputs": []
    },
    {
      "cell_type": "code",
      "metadata": {
        "id": "xzx66y0m9UQM"
      },
      "source": [
        "data = pd.read_csv(\"/content/drive/MyDrive/Amazon_ML_Challenge/data.csv\")\n",
        "data.drop(\"Unnamed: 0\",axis = 1,inplace=True)"
      ],
      "execution_count": null,
      "outputs": []
    },
    {
      "cell_type": "code",
      "metadata": {
        "colab": {
          "base_uri": "https://localhost:8080/",
          "height": 200
        },
        "id": "OR_BHd8q9y9a",
        "outputId": "03a0298c-7a9e-4f25-9451-216f44e9ec07"
      },
      "source": [
        "data.head()"
      ],
      "execution_count": null,
      "outputs": [
        {
          "output_type": "execute_result",
          "data": {
            "text/html": [
              "<div>\n",
              "<style scoped>\n",
              "    .dataframe tbody tr th:only-of-type {\n",
              "        vertical-align: middle;\n",
              "    }\n",
              "\n",
              "    .dataframe tbody tr th {\n",
              "        vertical-align: top;\n",
              "    }\n",
              "\n",
              "    .dataframe thead th {\n",
              "        text-align: right;\n",
              "    }\n",
              "</style>\n",
              "<table border=\"1\" class=\"dataframe\">\n",
              "  <thead>\n",
              "    <tr style=\"text-align: right;\">\n",
              "      <th></th>\n",
              "      <th>INPUT</th>\n",
              "      <th>BROWSE_NODE_ID</th>\n",
              "    </tr>\n",
              "  </thead>\n",
              "  <tbody>\n",
              "    <tr>\n",
              "      <th>0</th>\n",
              "      <td>men full sleeve raglan shirts denim shirt size...</td>\n",
              "      <td>5</td>\n",
              "    </tr>\n",
              "    <tr>\n",
              "      <th>1</th>\n",
              "      <td>oxo good grips bpa free turkey baster cleaning...</td>\n",
              "      <td>16</td>\n",
              "    </tr>\n",
              "    <tr>\n",
              "      <th>2</th>\n",
              "      <td>hyper dog launcher replacement pouch hyper dog...</td>\n",
              "      <td>45</td>\n",
              "    </tr>\n",
              "    <tr>\n",
              "      <th>3</th>\n",
              "      <td>glacier wooden boomerang kids 8 18 glacier woo...</td>\n",
              "      <td>68</td>\n",
              "    </tr>\n",
              "    <tr>\n",
              "      <th>4</th>\n",
              "      <td>mitutoyo 570 313 hds digimatic height gage 18 ...</td>\n",
              "      <td>78</td>\n",
              "    </tr>\n",
              "  </tbody>\n",
              "</table>\n",
              "</div>"
            ],
            "text/plain": [
              "                                               INPUT  BROWSE_NODE_ID\n",
              "0  men full sleeve raglan shirts denim shirt size...               5\n",
              "1  oxo good grips bpa free turkey baster cleaning...              16\n",
              "2  hyper dog launcher replacement pouch hyper dog...              45\n",
              "3  glacier wooden boomerang kids 8 18 glacier woo...              68\n",
              "4  mitutoyo 570 313 hds digimatic height gage 18 ...              78"
            ]
          },
          "metadata": {
            "tags": []
          },
          "execution_count": 19
        }
      ]
    },
    {
      "cell_type": "code",
      "metadata": {
        "id": "y23al0aS9y7o"
      },
      "source": [
        "data[\"INPUT\"] = data[\"INPUT\"].apply(lemmatize)"
      ],
      "execution_count": null,
      "outputs": []
    },
    {
      "cell_type": "code",
      "metadata": {
        "id": "mNuHZUsS9y5y"
      },
      "source": [
        "data.to_csv(\"/content/drive/MyDrive/Amazon_ML_Challenge/data.csv\")"
      ],
      "execution_count": null,
      "outputs": []
    },
    {
      "cell_type": "code",
      "metadata": {
        "id": "PcryRW1Z9y3P"
      },
      "source": [
        "from collections import Counter\n",
        "counter = Counter(data[\"BROWSE_NODE_ID\"])\n",
        "y = data[\"BROWSE_NODE_ID\"]\n",
        "for k,v in counter.items():\n",
        "\tper = v / len(y) * 100\n",
        "\tprint('Class=%d, n=%d (%.3f%%)' % (k, v, per))\n"
      ],
      "execution_count": null,
      "outputs": []
    },
    {
      "cell_type": "code",
      "metadata": {
        "colab": {
          "base_uri": "https://localhost:8080/"
        },
        "id": "Nak9ieo0J6-0",
        "outputId": "cbd020ed-4656-4ae1-c454-14180e246d67"
      },
      "source": [
        "len(counter.items())"
      ],
      "execution_count": null,
      "outputs": [
        {
          "output_type": "execute_result",
          "data": {
            "text/plain": [
              "8524"
            ]
          },
          "metadata": {
            "tags": []
          },
          "execution_count": 25
        }
      ]
    },
    {
      "cell_type": "code",
      "metadata": {
        "id": "U0tBD0RbNGRr"
      },
      "source": [
        "X = data.drop(\"BROWSE_NODE_ID\",axis = 1)\n",
        "y = data[\"BROWSE_NODE_ID\"]"
      ],
      "execution_count": null,
      "outputs": []
    },
    {
      "cell_type": "code",
      "metadata": {
        "id": "X_tfABTZL2Xu"
      },
      "source": [
        "# Oversampling using SMOTE"
      ],
      "execution_count": null,
      "outputs": []
    },
    {
      "cell_type": "code",
      "metadata": {
        "id": "khYqESofL2U3"
      },
      "source": [
        "data = pd.read_csv(\"/content/drive/MyDrive/Amazon_ML_Challenge/data.csv\")\n",
        "data.drop(\"Unnamed: 0\",axis = 1,inplace=True)"
      ],
      "execution_count": null,
      "outputs": []
    },
    {
      "cell_type": "code",
      "metadata": {
        "id": "t7SdirPHMgX8"
      },
      "source": [
        "from imblearn.pipeline import Pipeline, make_pipeline\n",
        "from sklearn.feature_extraction.text import CountVectorizer\n",
        "from sklearn.feature_extraction.text import TfidfTransformer\n",
        "from sklearn.naive_bayes import MultinomialNB\n",
        "from imblearn.over_sampling import SMOTE\n",
        "from sklearn.linear_model import SGDClassifier"
      ],
      "execution_count": null,
      "outputs": []
    },
    {
      "cell_type": "code",
      "metadata": {
        "id": "a_FwFXtidGue"
      },
      "source": [
        "X_final = pd.read_csv(\"/content/drive/MyDrive/Amazon_ML_Challenge/X_final.csv\").drop(\"Unnamed: 0\", axis = 1)"
      ],
      "execution_count": null,
      "outputs": []
    },
    {
      "cell_type": "code",
      "metadata": {
        "id": "-w26J7dUdOmI"
      },
      "source": [
        "y_final = pd.read_csv(\"/content/drive/MyDrive/Amazon_ML_Challenge/y_final.csv\").drop(\"Unnamed: 0\", axis = 1)"
      ],
      "execution_count": null,
      "outputs": []
    },
    {
      "cell_type": "code",
      "metadata": {
        "id": "utFsmHxVL2Pn"
      },
      "source": [
        "textclassifier =Pipeline([\n",
        "  ('vect', CountVectorizer()),\n",
        "   ('tfidf', TfidfTransformer()),\n",
        "   ('clf', SGDClassifier(loss='hinge', penalty='l2',alpha=1e-3, random_state=101, max_iter=5, tol=None, verbose=1))\n",
        "])"
      ],
      "execution_count": null,
      "outputs": []
    },
    {
      "cell_type": "code",
      "metadata": {
        "id": "vCy1_CG-dFJC"
      },
      "source": [
        "textclassifier.fit(np.squeeze(X_final),np.squeeze(y_final))"
      ],
      "execution_count": null,
      "outputs": []
    },
    {
      "cell_type": "code",
      "metadata": {
        "colab": {
          "base_uri": "https://localhost:8080/"
        },
        "id": "nmmIOXcBeHJ4",
        "outputId": "60f160b0-d1c1-4d2a-a862-828d42d24f77"
      },
      "source": [
        "y_final.shape"
      ],
      "execution_count": null,
      "outputs": [
        {
          "output_type": "execute_result",
          "data": {
            "text/plain": [
              "(2794929, 1)"
            ]
          },
          "metadata": {
            "tags": []
          },
          "execution_count": 15
        }
      ]
    },
    {
      "cell_type": "code",
      "metadata": {
        "id": "ijKOrHivsye8"
      },
      "source": [
        "# # Stratified Train Test Split\n",
        "# from sklearn.model_selection import train_test_split\n",
        "# X_train, X_test, y_train, y_test = train_test_split(X, y, test_size=0.05, random_state = 42, shuffle = True, stratify=y)"
      ],
      "execution_count": null,
      "outputs": []
    },
    {
      "cell_type": "code",
      "metadata": {
        "id": "3Es7jbWpN7G4"
      },
      "source": [
        "train_df = pd.concat([X_train,y_train],axis = 1)\n",
        "test_df = pd.concat([X_test,y_test],axis = 1)"
      ],
      "execution_count": null,
      "outputs": []
    },
    {
      "cell_type": "code",
      "metadata": {
        "id": "uryBkMtDZ5qj"
      },
      "source": [
        "test_df = pd.concat([X_test,y_test],axis = 1)"
      ],
      "execution_count": null,
      "outputs": []
    },
    {
      "cell_type": "code",
      "metadata": {
        "id": "HnPGHbZV-E-3"
      },
      "source": [
        "train_df[\"BROWSE_NODE_ID\"] = \"__label__\" + df[\"BROWSE_NODE_ID\"].map(str)"
      ],
      "execution_count": null,
      "outputs": []
    },
    {
      "cell_type": "code",
      "metadata": {
        "id": "-MbeDBCVtatx"
      },
      "source": [
        "X = df.drop(\"BROWSE_NODE_ID\",axis = 1)\n",
        "y = df[\"BROWSE_NODE_ID\"]"
      ],
      "execution_count": null,
      "outputs": []
    },
    {
      "cell_type": "code",
      "metadata": {
        "id": "TMXDiBYutx2O"
      },
      "source": [
        "train_df[\"input\"] = train_df[\"BROWSE_NODE_ID\"] + \" \" + train_df[\"INPUT\"]\n",
        "train_df = train_df.drop([\"INPUT\",\"BROWSE_NODE_ID\"],axis = 1)"
      ],
      "execution_count": null,
      "outputs": []
    },
    {
      "cell_type": "code",
      "metadata": {
        "colab": {
          "base_uri": "https://localhost:8080/",
          "height": 221
        },
        "id": "sXUQc24fcpyG",
        "outputId": "0bf94df3-1674-45e5-a909-bf7d18dc2519"
      },
      "source": [
        "test_df.head()"
      ],
      "execution_count": null,
      "outputs": [
        {
          "output_type": "execute_result",
          "data": {
            "text/html": [
              "<div>\n",
              "<style scoped>\n",
              "    .dataframe tbody tr th:only-of-type {\n",
              "        vertical-align: middle;\n",
              "    }\n",
              "\n",
              "    .dataframe tbody tr th {\n",
              "        vertical-align: top;\n",
              "    }\n",
              "\n",
              "    .dataframe thead th {\n",
              "        text-align: right;\n",
              "    }\n",
              "</style>\n",
              "<table border=\"1\" class=\"dataframe\">\n",
              "  <thead>\n",
              "    <tr style=\"text-align: right;\">\n",
              "      <th></th>\n",
              "      <th>INPUT</th>\n",
              "      <th>BROWSE_NODE_ID</th>\n",
              "    </tr>\n",
              "  </thead>\n",
              "  <tbody>\n",
              "    <tr>\n",
              "      <th>1097365</th>\n",
              "      <td>walk com pubg double colour slipper kids grey ...</td>\n",
              "      <td>8346</td>\n",
              "    </tr>\n",
              "    <tr>\n",
              "      <th>1791140</th>\n",
              "      <td>glasgow hammer proof tempered glass oneplus 3t...</td>\n",
              "      <td>374</td>\n",
              "    </tr>\n",
              "    <tr>\n",
              "      <th>567263</th>\n",
              "      <td>designer anarkali suit silk satin women ethnic...</td>\n",
              "      <td>1486</td>\n",
              "    </tr>\n",
              "    <tr>\n",
              "      <th>558906</th>\n",
              "      <td>toriox multifunctional double head cleaning br...</td>\n",
              "      <td>5112</td>\n",
              "    </tr>\n",
              "    <tr>\n",
              "      <th>2039144</th>\n",
              "      <td>colors blends men cotton round neck raw edges ...</td>\n",
              "      <td>5</td>\n",
              "    </tr>\n",
              "  </tbody>\n",
              "</table>\n",
              "</div>"
            ],
            "text/plain": [
              "                                                     INPUT  BROWSE_NODE_ID\n",
              "1097365  walk com pubg double colour slipper kids grey ...            8346\n",
              "1791140  glasgow hammer proof tempered glass oneplus 3t...             374\n",
              "567263   designer anarkali suit silk satin women ethnic...            1486\n",
              "558906   toriox multifunctional double head cleaning br...            5112\n",
              "2039144  colors blends men cotton round neck raw edges ...               5"
            ]
          },
          "metadata": {
            "tags": []
          },
          "execution_count": 116
        }
      ]
    },
    {
      "cell_type": "code",
      "metadata": {
        "id": "l4cdcgLzO1u_"
      },
      "source": [
        "# This is the input data form that fasttext expects\n",
        "test_df[\"BROWSE_NODE_ID\"] = \"__label__\" + test_df[\"BROWSE_NODE_ID\"].map(str)\n",
        "test_df[\"input\"] = test_df[\"BROWSE_NODE_ID\"] + \" \" + test_df[\"INPUT\"]\n",
        "test_df = test_df.drop([\"BROWSE_NODE_ID\",\"INPUT\"],axis = 1)"
      ],
      "execution_count": null,
      "outputs": []
    },
    {
      "cell_type": "code",
      "metadata": {
        "colab": {
          "base_uri": "https://localhost:8080/",
          "height": 221
        },
        "id": "eFgjy11eaQDe",
        "outputId": "3d7dc302-60af-4cd5-bc8c-66503f41f725"
      },
      "source": [
        "test_df.head()"
      ],
      "execution_count": null,
      "outputs": [
        {
          "output_type": "execute_result",
          "data": {
            "text/html": [
              "<div>\n",
              "<style scoped>\n",
              "    .dataframe tbody tr th:only-of-type {\n",
              "        vertical-align: middle;\n",
              "    }\n",
              "\n",
              "    .dataframe tbody tr th {\n",
              "        vertical-align: top;\n",
              "    }\n",
              "\n",
              "    .dataframe thead th {\n",
              "        text-align: right;\n",
              "    }\n",
              "</style>\n",
              "<table border=\"1\" class=\"dataframe\">\n",
              "  <thead>\n",
              "    <tr style=\"text-align: right;\">\n",
              "      <th></th>\n",
              "      <th>input</th>\n",
              "    </tr>\n",
              "  </thead>\n",
              "  <tbody>\n",
              "    <tr>\n",
              "      <th>1097365</th>\n",
              "      <td>__label__8346 walk com pubg double colour slip...</td>\n",
              "    </tr>\n",
              "    <tr>\n",
              "      <th>1791140</th>\n",
              "      <td>__label__374 glasgow hammer proof tempered gla...</td>\n",
              "    </tr>\n",
              "    <tr>\n",
              "      <th>567263</th>\n",
              "      <td>__label__1486 designer anarkali suit silk sati...</td>\n",
              "    </tr>\n",
              "    <tr>\n",
              "      <th>558906</th>\n",
              "      <td>__label__5112 toriox multifunctional double he...</td>\n",
              "    </tr>\n",
              "    <tr>\n",
              "      <th>2039144</th>\n",
              "      <td>__label__5 colors blends men cotton round neck...</td>\n",
              "    </tr>\n",
              "  </tbody>\n",
              "</table>\n",
              "</div>"
            ],
            "text/plain": [
              "                                                     input\n",
              "1097365  __label__8346 walk com pubg double colour slip...\n",
              "1791140  __label__374 glasgow hammer proof tempered gla...\n",
              "567263   __label__1486 designer anarkali suit silk sati...\n",
              "558906   __label__5112 toriox multifunctional double he...\n",
              "2039144  __label__5 colors blends men cotton round neck..."
            ]
          },
          "metadata": {
            "tags": []
          },
          "execution_count": 121
        }
      ]
    },
    {
      "cell_type": "code",
      "metadata": {
        "id": "LpTXKWRjPu-t"
      },
      "source": [
        "train_df.to_csv(\"/content/drive/MyDrive/Amazon_ML_Challenge/trn_df.csv\",index=False)\n",
        "test_df.to_csv(\"/content/drive/MyDrive/Amazon_ML_Challenge/tst_df.csv\",index=False)"
      ],
      "execution_count": null,
      "outputs": []
    },
    {
      "cell_type": "code",
      "metadata": {
        "id": "taz-QMhsc71A"
      },
      "source": [
        "test_df.to_csv(\"/content/drive/MyDrive/Amazon_ML_Challenge/tst_df.csv\",index=False)"
      ],
      "execution_count": null,
      "outputs": []
    },
    {
      "cell_type": "code",
      "metadata": {
        "colab": {
          "base_uri": "https://localhost:8080/",
          "height": 201
        },
        "id": "v7y45lCK-4WP",
        "outputId": "ef7c5b5a-496b-4464-8876-bd1a869abc66"
      },
      "source": [
        "df.head()"
      ],
      "execution_count": null,
      "outputs": [
        {
          "output_type": "execute_result",
          "data": {
            "text/html": [
              "<div>\n",
              "<style scoped>\n",
              "    .dataframe tbody tr th:only-of-type {\n",
              "        vertical-align: middle;\n",
              "    }\n",
              "\n",
              "    .dataframe tbody tr th {\n",
              "        vertical-align: top;\n",
              "    }\n",
              "\n",
              "    .dataframe thead th {\n",
              "        text-align: right;\n",
              "    }\n",
              "</style>\n",
              "<table border=\"1\" class=\"dataframe\">\n",
              "  <thead>\n",
              "    <tr style=\"text-align: right;\">\n",
              "      <th></th>\n",
              "      <th>input</th>\n",
              "    </tr>\n",
              "  </thead>\n",
              "  <tbody>\n",
              "    <tr>\n",
              "      <th>0</th>\n",
              "      <td>__label__0 pete the cat bedtime blues doll 14 ...</td>\n",
              "    </tr>\n",
              "    <tr>\n",
              "      <th>1</th>\n",
              "      <td>__label__1 the new yorker nyhm014 refrigerator...</td>\n",
              "    </tr>\n",
              "    <tr>\n",
              "      <th>2</th>\n",
              "      <td>__label__5 men s full sleeve raglan t shirts d...</td>\n",
              "    </tr>\n",
              "    <tr>\n",
              "      <th>3</th>\n",
              "      <td>__label__6 glance women s wallet black lw 21 t...</td>\n",
              "    </tr>\n",
              "    <tr>\n",
              "      <th>4</th>\n",
              "      <td>__label__7 wild animals hungry brain education...</td>\n",
              "    </tr>\n",
              "  </tbody>\n",
              "</table>\n",
              "</div>"
            ],
            "text/plain": [
              "                                               input\n",
              "0  __label__0 pete the cat bedtime blues doll 14 ...\n",
              "1  __label__1 the new yorker nyhm014 refrigerator...\n",
              "2  __label__5 men s full sleeve raglan t shirts d...\n",
              "3  __label__6 glance women s wallet black lw 21 t...\n",
              "4  __label__7 wild animals hungry brain education..."
            ]
          },
          "metadata": {
            "tags": []
          },
          "execution_count": 9
        }
      ]
    },
    {
      "cell_type": "code",
      "metadata": {
        "id": "tp2dY01cBv-i"
      },
      "source": [
        "df.to_csv(\"/content/drive/MyDrive/Amazon_ML_Challenge/fasttext_input.csv\")"
      ],
      "execution_count": null,
      "outputs": []
    },
    {
      "cell_type": "code",
      "metadata": {
        "id": "-JYlJO8PSMmp"
      },
      "source": [
        ""
      ],
      "execution_count": null,
      "outputs": []
    },
    {
      "cell_type": "code",
      "metadata": {
        "id": "KMWoATxbSMli"
      },
      "source": [
        ""
      ],
      "execution_count": null,
      "outputs": []
    },
    {
      "cell_type": "code",
      "metadata": {
        "id": "hJLKS3KuSMhy"
      },
      "source": [
        ""
      ],
      "execution_count": null,
      "outputs": []
    },
    {
      "cell_type": "code",
      "metadata": {
        "id": "T5V3CLlYSMeZ"
      },
      "source": [
        ""
      ],
      "execution_count": null,
      "outputs": []
    },
    {
      "cell_type": "markdown",
      "metadata": {
        "id": "SZZ0XIDviYjB"
      },
      "source": [
        "# TEST SET IMPORT AND PREPROCESS"
      ]
    },
    {
      "cell_type": "code",
      "metadata": {
        "id": "t1dnxwOtjUmi"
      },
      "source": [
        "from nltk.tokenize import RegexpTokenizer\n",
        "def clean_html_punct(text):\n",
        "  if type(text) == str:\n",
        "    text = text.lower() \n",
        "  cleanr = re.compile('<.*?>')\n",
        "  cleantext = re.sub(cleanr, '', text)\n",
        "  tokenizer1 = RegexpTokenizer(r'\\w+')\n",
        "  text = \" \".join(tokenizer1.tokenize(text))\n",
        "  return text"
      ],
      "execution_count": null,
      "outputs": []
    },
    {
      "cell_type": "code",
      "metadata": {
        "id": "DmilwRV3ihSI"
      },
      "source": [
        "dataframe = pd.read_csv(\"/content/drive/MyDrive/Amazon_ML_Challenge/dataset/test.csv\",escapechar = \"\\\\\", quoting=csv.QUOTE_NONE)"
      ],
      "execution_count": null,
      "outputs": []
    },
    {
      "cell_type": "code",
      "metadata": {
        "id": "febqTl3pnWsn"
      },
      "source": [
        "temp = dataframe.drop([\"PRODUCT_ID\"],axis = 1)"
      ],
      "execution_count": null,
      "outputs": []
    },
    {
      "cell_type": "code",
      "metadata": {
        "id": "SLi4KulooE78"
      },
      "source": [
        "temp = temp.fillna(\"\")"
      ],
      "execution_count": null,
      "outputs": []
    },
    {
      "cell_type": "code",
      "metadata": {
        "id": "9KYvbGKznbvf"
      },
      "source": [
        "temp[\"input\"] = temp[\"TITLE\"] + \" \" + temp[\"DESCRIPTION\"] +  \" \" + temp[\"BULLET_POINTS\"] + \" \" + temp[\"BRAND\"]"
      ],
      "execution_count": null,
      "outputs": []
    },
    {
      "cell_type": "code",
      "metadata": {
        "id": "w89DlXwknbZW"
      },
      "source": [
        "temp = temp.drop([\"TITLE\",\"DESCRIPTION\",\"BULLET_POINTS\",\"BRAND\"],axis = 1)"
      ],
      "execution_count": null,
      "outputs": []
    },
    {
      "cell_type": "code",
      "metadata": {
        "colab": {
          "base_uri": "https://localhost:8080/",
          "height": 221
        },
        "id": "cD8Tt46zo4J1",
        "outputId": "7652c4fb-1028-415c-fada-2110b9d18d4c"
      },
      "source": [
        "temp.head()"
      ],
      "execution_count": null,
      "outputs": [
        {
          "output_type": "execute_result",
          "data": {
            "text/html": [
              "<div>\n",
              "<style scoped>\n",
              "    .dataframe tbody tr th:only-of-type {\n",
              "        vertical-align: middle;\n",
              "    }\n",
              "\n",
              "    .dataframe tbody tr th {\n",
              "        vertical-align: top;\n",
              "    }\n",
              "\n",
              "    .dataframe thead th {\n",
              "        text-align: right;\n",
              "    }\n",
              "</style>\n",
              "<table border=\"1\" class=\"dataframe\">\n",
              "  <thead>\n",
              "    <tr style=\"text-align: right;\">\n",
              "      <th></th>\n",
              "      <th>input</th>\n",
              "    </tr>\n",
              "  </thead>\n",
              "  <tbody>\n",
              "    <tr>\n",
              "      <th>0</th>\n",
              "      <td>Command 3M Small Kitchen Hooks, White, Decorat...</td>\n",
              "    </tr>\n",
              "    <tr>\n",
              "      <th>1</th>\n",
              "      <td>O'Neal Jump Hardware JAG Unisex-Adult Glove (B...</td>\n",
              "    </tr>\n",
              "    <tr>\n",
              "      <th>2</th>\n",
              "      <td>NFL Detroit Lions Portable Party Fridge, 15.8 ...</td>\n",
              "    </tr>\n",
              "    <tr>\n",
              "      <th>3</th>\n",
              "      <td>Panasonic Single Line KX-TS880MX Corded Phone ...</td>\n",
              "    </tr>\n",
              "    <tr>\n",
              "      <th>4</th>\n",
              "      <td>Zero Baby Girl's 100% Cotton Innerwear Bloomer...</td>\n",
              "    </tr>\n",
              "  </tbody>\n",
              "</table>\n",
              "</div>"
            ],
            "text/plain": [
              "                                               input\n",
              "0  Command 3M Small Kitchen Hooks, White, Decorat...\n",
              "1  O'Neal Jump Hardware JAG Unisex-Adult Glove (B...\n",
              "2  NFL Detroit Lions Portable Party Fridge, 15.8 ...\n",
              "3  Panasonic Single Line KX-TS880MX Corded Phone ...\n",
              "4  Zero Baby Girl's 100% Cotton Innerwear Bloomer..."
            ]
          },
          "metadata": {
            "tags": []
          },
          "execution_count": 186
        }
      ]
    },
    {
      "cell_type": "code",
      "metadata": {
        "id": "raKVFphBnzUQ"
      },
      "source": [
        "temp = temp[\"input\"].apply(clean_html_punct)"
      ],
      "execution_count": null,
      "outputs": []
    },
    {
      "cell_type": "code",
      "metadata": {
        "id": "3jHRUb_amiNv"
      },
      "source": [
        "temp.to_csv(\"/content/drive/MyDrive/Amazon_ML_Challenge/final_test_data.csv\",index=False)"
      ],
      "execution_count": null,
      "outputs": []
    },
    {
      "cell_type": "code",
      "metadata": {
        "id": "-qGNOGms-6OU",
        "colab": {
          "base_uri": "https://localhost:8080/"
        },
        "outputId": "13648956-9bef-444e-eff5-ec38b02f29d8"
      },
      "source": [
        "!pip install fasttext"
      ],
      "execution_count": null,
      "outputs": [
        {
          "output_type": "stream",
          "text": [
            "Collecting fasttext\n",
            "  Downloading fasttext-0.9.2.tar.gz (68 kB)\n",
            "\u001b[?25l\r\u001b[K     |████▊                           | 10 kB 16.5 MB/s eta 0:00:01\r\u001b[K     |█████████▌                      | 20 kB 20.8 MB/s eta 0:00:01\r\u001b[K     |██████████████▎                 | 30 kB 21.3 MB/s eta 0:00:01\r\u001b[K     |███████████████████             | 40 kB 13.5 MB/s eta 0:00:01\r\u001b[K     |███████████████████████▉        | 51 kB 5.7 MB/s eta 0:00:01\r\u001b[K     |████████████████████████████▋   | 61 kB 5.6 MB/s eta 0:00:01\r\u001b[K     |████████████████████████████████| 68 kB 3.1 MB/s \n",
            "\u001b[31mERROR: Operation cancelled by user\u001b[0m\n",
            "\u001b[?25h"
          ],
          "name": "stdout"
        }
      ]
    },
    {
      "cell_type": "code",
      "metadata": {
        "id": "fcrX7--Z1Lpb"
      },
      "source": [
        "X.to_csv(\"/content/drive/MyDrive/Colab Notebooks/X.csv\")\n",
        "y.to_csv(\"/content/drive/MyDrive/Colab Notebooks/y.csv\")"
      ],
      "execution_count": null,
      "outputs": []
    },
    {
      "cell_type": "markdown",
      "metadata": {
        "id": "ciWjIT6682gk"
      },
      "source": [
        "# SVM"
      ]
    },
    {
      "cell_type": "code",
      "metadata": {
        "id": "3sNKYCsdxoCS"
      },
      "source": [
        "# Baseline Model"
      ],
      "execution_count": null,
      "outputs": []
    },
    {
      "cell_type": "code",
      "metadata": {
        "id": "_hvvUKDy4Lm3"
      },
      "source": [
        "from sklearn.linear_model import SGDClassifier\n",
        "from sklearn.feature_extraction.text import CountVectorizer\n",
        "from sklearn.feature_extraction.text import TfidfTransformer\n",
        "from sklearn.linear_model import SGDClassifier\n",
        "from sklearn.pipeline import Pipeline\n",
        "from sklearn.model_selection import train_test_split\n",
        "from sklearn.metrics import classification_report,accuracy_score"
      ],
      "execution_count": null,
      "outputs": []
    },
    {
      "cell_type": "code",
      "metadata": {
        "id": "c5IZm34wKwxV"
      },
      "source": [
        "X_train, X_test, y_train, y_test = train_test_split(X[:int(len(X)/2)], y[:int(len(y)/2)], test_size=0.25, random_state = 42, shuffle = False)\n",
        "\n",
        "sgd = Pipeline([('vect', CountVectorizer()),\n",
        "                ('tfidf', TfidfTransformer()),\n",
        "                ('clf', SGDClassifier(loss='hinge', penalty='l2',alpha=1e-3, random_state=101, max_iter=5, tol=None, verbose=1)),\n",
        "               ])\n",
        "sgd.fit(np.squeeze(X_train), y_train)"
      ],
      "execution_count": null,
      "outputs": []
    },
    {
      "cell_type": "code",
      "metadata": {
        "id": "TPc1ba9a3mzt"
      },
      "source": [
        "y_pred = sgd.predict(np.squeeze(X_test))\n",
        "print('accuracy %s' % accuracy_score(y_pred, y_test))\n",
        "print(classification_report(y_test, y_pred))"
      ],
      "execution_count": null,
      "outputs": []
    },
    {
      "cell_type": "code",
      "metadata": {
        "id": "7F5CiHve_HX8"
      },
      "source": [
        "# Undersampling"
      ],
      "execution_count": null,
      "outputs": []
    },
    {
      "cell_type": "code",
      "metadata": {
        "id": "mFpvQ-ywDjdk"
      },
      "source": [
        "# TOMELINKS"
      ],
      "execution_count": null,
      "outputs": []
    },
    {
      "cell_type": "code",
      "metadata": {
        "id": "1MxhDrDCGE91"
      },
      "source": [
        "X_final = pd.read_csv(\"/content/drive/MyDrive/Amazon_ML_Challenge/X_final.csv\").drop(\"Unnamed: 0\", axis = 1)\n",
        "y_final = pd.read_csv(\"/content/drive/MyDrive/Amazon_ML_Challenge/y_final.csv\").drop(\"Unnamed: 0\", axis = 1)"
      ],
      "execution_count": null,
      "outputs": []
    },
    {
      "cell_type": "code",
      "metadata": {
        "colab": {
          "base_uri": "https://localhost:8080/"
        },
        "id": "2zzqcoj8_HRY",
        "outputId": "77594fc8-911e-4b4f-81d6-f4b45b848e06"
      },
      "source": [
        "y_final[\"BROWSE_NODE_ID\"].value_counts()"
      ],
      "execution_count": null,
      "outputs": [
        {
          "output_type": "execute_result",
          "data": {
            "text/plain": [
              "1045       215180\n",
              "5           69337\n",
              "1251        51289\n",
              "1052        44842\n",
              "1295        31944\n",
              "            ...  \n",
              "1199245         1\n",
              "103926          1\n",
              "1695224         1\n",
              "2182613         1\n",
              "81712           1\n",
              "Name: BROWSE_NODE_ID, Length: 9891, dtype: int64"
            ]
          },
          "metadata": {
            "tags": []
          },
          "execution_count": 161
        }
      ]
    },
    {
      "cell_type": "code",
      "metadata": {
        "id": "LkALG-DZ_HOG"
      },
      "source": [
        "X_temp = X_final[:10000]\n",
        "y_temp = y_final[:10000]"
      ],
      "execution_count": null,
      "outputs": []
    },
    {
      "cell_type": "code",
      "metadata": {
        "id": "jZHwAbhkBY84"
      },
      "source": [
        "from sklearn.feature_extraction.text import TfidfVectorizer"
      ],
      "execution_count": null,
      "outputs": []
    },
    {
      "cell_type": "code",
      "metadata": {
        "id": "LyWNItMtBi6G"
      },
      "source": [
        "df = pd.concat([X_final,y_final],axis = 1)"
      ],
      "execution_count": null,
      "outputs": []
    },
    {
      "cell_type": "code",
      "metadata": {
        "id": "bORB_wBHCARv"
      },
      "source": [
        "df = df.groupby(\"BROWSE_NODE_ID\").filter(lambda x: len(x)>6)"
      ],
      "execution_count": null,
      "outputs": []
    },
    {
      "cell_type": "code",
      "metadata": {
        "colab": {
          "base_uri": "https://localhost:8080/"
        },
        "id": "bt3F7QsyC8SX",
        "outputId": "4359ee9c-e566-4d32-d681-90835f1fb469"
      },
      "source": [
        "df[\"BROWSE_NODE_ID\"].value_counts()"
      ],
      "execution_count": null,
      "outputs": [
        {
          "output_type": "execute_result",
          "data": {
            "text/plain": [
              "1045    931\n",
              "5       211\n",
              "1052    162\n",
              "1295    152\n",
              "374     151\n",
              "       ... \n",
              "5932      7\n",
              "405       7\n",
              "1011      7\n",
              "1318      7\n",
              "2003      7\n",
              "Name: BROWSE_NODE_ID, Length: 267, dtype: int64"
            ]
          },
          "metadata": {
            "tags": []
          },
          "execution_count": 166
        }
      ]
    },
    {
      "cell_type": "code",
      "metadata": {
        "id": "ktuCHxrEDCSW"
      },
      "source": [
        "X_temp = df[\"INPUT\"]\n",
        "y_temp = df[\"BROWSE_NODE_ID\"]"
      ],
      "execution_count": null,
      "outputs": []
    },
    {
      "cell_type": "code",
      "metadata": {
        "id": "R_6vfpFk_HGD"
      },
      "source": [
        "tfidf_vect = TfidfVectorizer(analyzer='word', token_pattern=r'\\w', max_features=None)\n",
        "tfidf_vect.fit(X_temp)\n",
        "xtrain_tfidf =  tfidf_vect.transform(X_temp)"
      ],
      "execution_count": null,
      "outputs": []
    },
    {
      "cell_type": "code",
      "metadata": {
        "colab": {
          "base_uri": "https://localhost:8080/"
        },
        "id": "lNIarwL9_HCJ",
        "outputId": "02c2f03a-ecbc-4ad6-87d5-d6a08e78000d"
      },
      "source": [
        "xtrain_tfidf.shape"
      ],
      "execution_count": null,
      "outputs": [
        {
          "output_type": "execute_result",
          "data": {
            "text/plain": [
              "(6319, 105)"
            ]
          },
          "metadata": {
            "tags": []
          },
          "execution_count": 169
        }
      ]
    },
    {
      "cell_type": "code",
      "metadata": {
        "colab": {
          "base_uri": "https://localhost:8080/"
        },
        "id": "K8gd0EC5_G-H",
        "outputId": "5c8c07ba-9661-4146-b371-67f8184b14b4"
      },
      "source": [
        "from imblearn.under_sampling import TomekLinks\n",
        "trans = TomekLinks(ratio='all',sampling_strategy='not minority')\n",
        "X_resampled1, y_resampled1 = trans.fit_sample(xtrain_tfidf, np.squeeze(y_temp))"
      ],
      "execution_count": null,
      "outputs": [
        {
          "output_type": "stream",
          "text": [
            "/usr/local/lib/python3.7/dist-packages/sklearn/utils/deprecation.py:87: FutureWarning: Function safe_indexing is deprecated; safe_indexing is deprecated in version 0.22 and will be removed in version 0.24.\n",
            "  warnings.warn(msg, category=FutureWarning)\n"
          ],
          "name": "stderr"
        }
      ]
    },
    {
      "cell_type": "code",
      "metadata": {
        "colab": {
          "base_uri": "https://localhost:8080/"
        },
        "id": "iok1kXvWC2bs",
        "outputId": "fc28efc7-0ffb-412c-fb2d-8d393eac1883"
      },
      "source": [
        "pd.DataFrame(y_resampled1)[0].value_counts()"
      ],
      "execution_count": null,
      "outputs": [
        {
          "output_type": "execute_result",
          "data": {
            "text/plain": [
              "1045     908\n",
              "5        185\n",
              "1052     151\n",
              "374      140\n",
              "1295     139\n",
              "        ... \n",
              "6016       1\n",
              "12152      1\n",
              "10105      1\n",
              "6015       1\n",
              "3906       1\n",
              "Name: 0, Length: 2074, dtype: int64"
            ]
          },
          "metadata": {
            "tags": []
          },
          "execution_count": 62
        }
      ]
    },
    {
      "cell_type": "code",
      "metadata": {
        "colab": {
          "base_uri": "https://localhost:8080/"
        },
        "id": "R0D-L4FkHURC",
        "outputId": "1fa935a6-93fb-4ab9-e042-83ed875ef6c2"
      },
      "source": [
        "pd.DataFrame(y_resampled1)[0].nunique()"
      ],
      "execution_count": null,
      "outputs": [
        {
          "output_type": "execute_result",
          "data": {
            "text/plain": [
              "2074"
            ]
          },
          "metadata": {
            "tags": []
          },
          "execution_count": 63
        }
      ]
    },
    {
      "cell_type": "code",
      "metadata": {
        "id": "N8q9BSzDDhSU"
      },
      "source": [
        "# NearMiss"
      ],
      "execution_count": null,
      "outputs": []
    },
    {
      "cell_type": "code",
      "metadata": {
        "colab": {
          "base_uri": "https://localhost:8080/"
        },
        "id": "3bVj9QgwDhPU",
        "outputId": "5c787e84-f0ec-42d1-ac0c-b849c7bdf2f7"
      },
      "source": [
        "from imblearn.under_sampling import NearMiss\n",
        "trans = NearMiss(version=1,sampling_strategy='not minority',n_neighbors=1)\n",
        "X_resampled2, y_resampled2 = trans.fit_sample(xtrain_tfidf, y_temp)"
      ],
      "execution_count": null,
      "outputs": [
        {
          "output_type": "stream",
          "text": [
            "/usr/local/lib/python3.7/dist-packages/sklearn/utils/validation.py:760: DataConversionWarning: A column-vector y was passed when a 1d array was expected. Please change the shape of y to (n_samples, ), for example using ravel().\n",
            "  y = column_or_1d(y, warn=True)\n",
            "/usr/local/lib/python3.7/dist-packages/sklearn/utils/deprecation.py:87: FutureWarning: Function safe_indexing is deprecated; safe_indexing is deprecated in version 0.22 and will be removed in version 0.24.\n",
            "  warnings.warn(msg, category=FutureWarning)\n"
          ],
          "name": "stderr"
        }
      ]
    },
    {
      "cell_type": "code",
      "metadata": {
        "colab": {
          "base_uri": "https://localhost:8080/"
        },
        "id": "ZEz_OrOrDhKM",
        "outputId": "e3ae83df-0b06-4b5d-8cce-dd550a9467fe"
      },
      "source": [
        "pd.DataFrame(y_resampled2)[0].value_counts()"
      ],
      "execution_count": null,
      "outputs": [
        {
          "output_type": "execute_result",
          "data": {
            "text/plain": [
              "6143     1\n",
              "1236     1\n",
              "6828     1\n",
              "1248     1\n",
              "1246     1\n",
              "        ..\n",
              "12463    1\n",
              "615      1\n",
              "8809     1\n",
              "6762     1\n",
              "0        1\n",
              "Name: 0, Length: 2188, dtype: int64"
            ]
          },
          "metadata": {
            "tags": []
          },
          "execution_count": 50
        }
      ]
    },
    {
      "cell_type": "code",
      "metadata": {
        "id": "tUw81nAHDhFD"
      },
      "source": [
        "#Edited Nearest Neighbours"
      ],
      "execution_count": null,
      "outputs": []
    },
    {
      "cell_type": "code",
      "metadata": {
        "colab": {
          "base_uri": "https://localhost:8080/"
        },
        "id": "IcjBHvsrDhD9",
        "outputId": "1f73a24c-30e6-400a-d891-aef5b8a5bdbe"
      },
      "source": [
        "from imblearn.under_sampling import EditedNearestNeighbours\n",
        "trans = EditedNearestNeighbours(sampling_strategy='not minority',kind_sel = \"all\")\n",
        "X_resampled3, y_resampled3 = trans.fit_sample(xtrain_tfidf, y_temp)"
      ],
      "execution_count": null,
      "outputs": [
        {
          "output_type": "stream",
          "text": [
            "/usr/local/lib/python3.7/dist-packages/sklearn/utils/validation.py:760: DataConversionWarning: A column-vector y was passed when a 1d array was expected. Please change the shape of y to (n_samples, ), for example using ravel().\n",
            "  y = column_or_1d(y, warn=True)\n",
            "/usr/local/lib/python3.7/dist-packages/sklearn/utils/deprecation.py:87: FutureWarning: Function safe_indexing is deprecated; safe_indexing is deprecated in version 0.22 and will be removed in version 0.24.\n",
            "  warnings.warn(msg, category=FutureWarning)\n"
          ],
          "name": "stderr"
        }
      ]
    },
    {
      "cell_type": "code",
      "metadata": {
        "id": "sS5P1GA1GHS8"
      },
      "source": [
        "pd.DataFrame(y_resampled3)[0].value_counts()"
      ],
      "execution_count": null,
      "outputs": []
    },
    {
      "cell_type": "code",
      "metadata": {
        "colab": {
          "base_uri": "https://localhost:8080/"
        },
        "id": "vGcQNG30GHRS",
        "outputId": "78ceb7f1-b058-492f-8f47-e51bbed7ff34"
      },
      "source": [
        "y_temp[\"BROWSE_NODE_ID\"].nunique()"
      ],
      "execution_count": null,
      "outputs": [
        {
          "output_type": "execute_result",
          "data": {
            "text/plain": [
              "2188"
            ]
          },
          "metadata": {
            "tags": []
          },
          "execution_count": 69
        }
      ]
    },
    {
      "cell_type": "code",
      "metadata": {
        "id": "4GePUxBtGHMO"
      },
      "source": [
        "# SMOTEENN"
      ],
      "execution_count": null,
      "outputs": []
    },
    {
      "cell_type": "code",
      "metadata": {
        "id": "ZP3qE_NHOk0P"
      },
      "source": [
        "from collections import Counter\n",
        "counter = Counter(df[\"BROWSE_NODE_ID\"])"
      ],
      "execution_count": null,
      "outputs": []
    },
    {
      "cell_type": "code",
      "metadata": {
        "colab": {
          "base_uri": "https://localhost:8080/"
        },
        "id": "mY5JLIiF901j",
        "outputId": "2ecf7eda-2200-41e4-9065-1c683564b596"
      },
      "source": [
        "df[\"BROWSE_NODE_ID\"].value_counts()"
      ],
      "execution_count": null,
      "outputs": [
        {
          "output_type": "execute_result",
          "data": {
            "text/plain": [
              "1045    931\n",
              "5       211\n",
              "1052    162\n",
              "1295    152\n",
              "374     151\n",
              "       ... \n",
              "5932      7\n",
              "405       7\n",
              "1011      7\n",
              "1318      7\n",
              "2003      7\n",
              "Name: BROWSE_NODE_ID, Length: 267, dtype: int64"
            ]
          },
          "metadata": {
            "tags": []
          },
          "execution_count": 172
        }
      ]
    },
    {
      "cell_type": "code",
      "metadata": {
        "id": "I0DgvZmbbSHX"
      },
      "source": [
        "counter = dict(counter)"
      ],
      "execution_count": null,
      "outputs": []
    },
    {
      "cell_type": "code",
      "metadata": {
        "id": "-XuH-yHr9KEj"
      },
      "source": [
        "counter"
      ],
      "execution_count": null,
      "outputs": []
    },
    {
      "cell_type": "code",
      "metadata": {
        "id": "dGyzm2M8-6UA"
      },
      "source": [
        "temp = list(df[(df[\"BROWSE_NODE_ID\"]>6)&(df[\"BROWSE_NODE_ID\"]<200)][\"BROWSE_NODE_ID\"].unique())"
      ],
      "execution_count": null,
      "outputs": []
    },
    {
      "cell_type": "code",
      "metadata": {
        "id": "aGG7Acrf_vOL"
      },
      "source": [
        "smote_dict = dict.fromkeys(temp,200)"
      ],
      "execution_count": null,
      "outputs": []
    },
    {
      "cell_type": "code",
      "metadata": {
        "id": "rCMrupyTAfnd"
      },
      "source": [
        "smote_dict"
      ],
      "execution_count": null,
      "outputs": []
    },
    {
      "cell_type": "code",
      "metadata": {
        "colab": {
          "base_uri": "https://localhost:8080/"
        },
        "id": "W7yylMKUAflA",
        "outputId": "6bd50d79-6dcf-43fb-da19-ac3dad512bb6"
      },
      "source": [
        "from imblearn.over_sampling import SMOTE\n",
        "trans = SMOTE(sampling_strategy= smote_dict)\n",
        "X_resampled1, y_resampled1 = trans.fit_sample(xtrain_tfidf, np.squeeze(y_temp))"
      ],
      "execution_count": null,
      "outputs": [
        {
          "output_type": "stream",
          "text": [
            "/usr/local/lib/python3.7/dist-packages/sklearn/utils/deprecation.py:87: FutureWarning: Function safe_indexing is deprecated; safe_indexing is deprecated in version 0.22 and will be removed in version 0.24.\n",
            "  warnings.warn(msg, category=FutureWarning)\n"
          ],
          "name": "stderr"
        }
      ]
    },
    {
      "cell_type": "code",
      "metadata": {
        "colab": {
          "base_uri": "https://localhost:8080/"
        },
        "id": "PZFlNmelGx3q",
        "outputId": "2fca3601-c29f-4f7f-b615-870de2e5de5c"
      },
      "source": [
        "X_resampled1.shape"
      ],
      "execution_count": null,
      "outputs": [
        {
          "output_type": "execute_result",
          "data": {
            "text/plain": [
              "(10969, 105)"
            ]
          },
          "metadata": {
            "tags": []
          },
          "execution_count": 181
        }
      ]
    },
    {
      "cell_type": "code",
      "metadata": {
        "colab": {
          "base_uri": "https://localhost:8080/"
        },
        "id": "wMmgpo4dGxuN",
        "outputId": "cd3192ff-8fee-4685-b6ad-76ff1568a360"
      },
      "source": [
        "type(X_resampled1)"
      ],
      "execution_count": null,
      "outputs": [
        {
          "output_type": "execute_result",
          "data": {
            "text/plain": [
              "scipy.sparse.csr.csr_matrix"
            ]
          },
          "metadata": {
            "tags": []
          },
          "execution_count": 183
        }
      ]
    },
    {
      "cell_type": "code",
      "metadata": {
        "colab": {
          "base_uri": "https://localhost:8080/"
        },
        "id": "RHMbdPQtJBJO",
        "outputId": "8196de0a-d1a2-451a-bc1a-ab6a46c17db3"
      },
      "source": [
        ""
      ],
      "execution_count": null,
      "outputs": [
        {
          "output_type": "execute_result",
          "data": {
            "text/plain": [
              "(6319,)"
            ]
          },
          "metadata": {
            "tags": []
          },
          "execution_count": 186
        }
      ]
    },
    {
      "cell_type": "code",
      "metadata": {
        "colab": {
          "base_uri": "https://localhost:8080/",
          "height": 328
        },
        "id": "TIo7onAeAfch",
        "outputId": "733bd6c9-50c3-4eba-e0fc-e8ac7ce8026b"
      },
      "source": [
        "from imblearn.under_sampling import RandomUnderSampler\n",
        "rus = RandomUnderSampler(random_state = 42)\n",
        "X_rus, y_rus = rus.fit_resample(X_final,y_final)"
      ],
      "execution_count": null,
      "outputs": [
        {
          "output_type": "error",
          "ename": "KeyboardInterrupt",
          "evalue": "ignored",
          "traceback": [
            "\u001b[0;31m---------------------------------------------------------------------------\u001b[0m",
            "\u001b[0;31mKeyboardInterrupt\u001b[0m                         Traceback (most recent call last)",
            "\u001b[0;32m<ipython-input-204-228ce196bf52>\u001b[0m in \u001b[0;36m<module>\u001b[0;34m()\u001b[0m\n\u001b[1;32m      1\u001b[0m \u001b[0;32mfrom\u001b[0m \u001b[0mimblearn\u001b[0m\u001b[0;34m.\u001b[0m\u001b[0munder_sampling\u001b[0m \u001b[0;32mimport\u001b[0m \u001b[0mRandomUnderSampler\u001b[0m\u001b[0;34m\u001b[0m\u001b[0;34m\u001b[0m\u001b[0m\n\u001b[1;32m      2\u001b[0m \u001b[0mrus\u001b[0m \u001b[0;34m=\u001b[0m \u001b[0mRandomUnderSampler\u001b[0m\u001b[0;34m(\u001b[0m\u001b[0mrandom_state\u001b[0m \u001b[0;34m=\u001b[0m \u001b[0;36m42\u001b[0m\u001b[0;34m)\u001b[0m\u001b[0;34m\u001b[0m\u001b[0;34m\u001b[0m\u001b[0m\n\u001b[0;32m----> 3\u001b[0;31m \u001b[0mX_rus\u001b[0m\u001b[0;34m,\u001b[0m \u001b[0my_rus\u001b[0m \u001b[0;34m=\u001b[0m \u001b[0mrus\u001b[0m\u001b[0;34m.\u001b[0m\u001b[0mfit_resample\u001b[0m\u001b[0;34m(\u001b[0m\u001b[0mX_final\u001b[0m\u001b[0;34m,\u001b[0m\u001b[0my_final\u001b[0m\u001b[0;34m)\u001b[0m\u001b[0;34m\u001b[0m\u001b[0;34m\u001b[0m\u001b[0m\n\u001b[0m",
            "\u001b[0;32m/usr/local/lib/python3.7/dist-packages/imblearn/base.py\u001b[0m in \u001b[0;36mfit_resample\u001b[0;34m(self, X, y)\u001b[0m\n\u001b[1;32m     83\u001b[0m             self.sampling_strategy, y, self._sampling_type)\n\u001b[1;32m     84\u001b[0m \u001b[0;34m\u001b[0m\u001b[0m\n\u001b[0;32m---> 85\u001b[0;31m         \u001b[0moutput\u001b[0m \u001b[0;34m=\u001b[0m \u001b[0mself\u001b[0m\u001b[0;34m.\u001b[0m\u001b[0m_fit_resample\u001b[0m\u001b[0;34m(\u001b[0m\u001b[0mX\u001b[0m\u001b[0;34m,\u001b[0m \u001b[0my\u001b[0m\u001b[0;34m)\u001b[0m\u001b[0;34m\u001b[0m\u001b[0;34m\u001b[0m\u001b[0m\n\u001b[0m\u001b[1;32m     86\u001b[0m \u001b[0;34m\u001b[0m\u001b[0m\n\u001b[1;32m     87\u001b[0m         \u001b[0;32mif\u001b[0m \u001b[0mbinarize_y\u001b[0m\u001b[0;34m:\u001b[0m\u001b[0;34m\u001b[0m\u001b[0;34m\u001b[0m\u001b[0m\n",
            "\u001b[0;32m/usr/local/lib/python3.7/dist-packages/imblearn/under_sampling/_prototype_selection/_random_under_sampler.py\u001b[0m in \u001b[0;36m_fit_resample\u001b[0;34m(self, X, y)\u001b[0m\n\u001b[1;32m    127\u001b[0m             idx_under = np.concatenate(\n\u001b[1;32m    128\u001b[0m                 (idx_under,\n\u001b[0;32m--> 129\u001b[0;31m                  np.flatnonzero(y == target_class)[index_target_class]),\n\u001b[0m\u001b[1;32m    130\u001b[0m                 axis=0)\n\u001b[1;32m    131\u001b[0m \u001b[0;34m\u001b[0m\u001b[0m\n",
            "\u001b[0;31mKeyboardInterrupt\u001b[0m: "
          ]
        }
      ]
    },
    {
      "cell_type": "code",
      "metadata": {
        "id": "uF2fVckUMvNd"
      },
      "source": [
        ""
      ],
      "execution_count": null,
      "outputs": []
    },
    {
      "cell_type": "code",
      "metadata": {
        "colab": {
          "base_uri": "https://localhost:8080/"
        },
        "id": "iAiS5YE3JxQ3",
        "outputId": "0aed34f7-9385-4ed7-cad4-19481cbe65e7"
      },
      "source": [
        "from sklearn.neighbors import KNeighborsClassifier\n",
        "#from sklearn.metrics import jaccard_score\n",
        "\n",
        "def get_jaccard_sim(str1, str2): \n",
        "    a = set(str1.split()) \n",
        "    b = set(str2.split())\n",
        "    c = a.intersection(b)\n",
        "    return float(len(c)) / (len(a) + len(b) - len(c))\n",
        "\n",
        "a = \"I love AI\"\n",
        "b = \"I hate ML\"\n",
        "get_jaccard_sim(a,b)\n"
      ],
      "execution_count": null,
      "outputs": [
        {
          "output_type": "execute_result",
          "data": {
            "text/plain": [
              "0.2"
            ]
          },
          "metadata": {
            "tags": []
          },
          "execution_count": 197
        }
      ]
    },
    {
      "cell_type": "code",
      "metadata": {
        "id": "mDi6L-XxLDYH"
      },
      "source": [
        "from imblearn.under_sampling import CondensedNearestNeighbour\n",
        "cnn = CondensedNearestNeighbour(random_state = 42, n_neighbors = 3)\n",
        "cnn.fit_resample(X_temp,y_temp)"
      ],
      "execution_count": null,
      "outputs": []
    },
    {
      "cell_type": "code",
      "metadata": {
        "id": "qpuMDkkjLqJl"
      },
      "source": [
        ""
      ],
      "execution_count": null,
      "outputs": []
    },
    {
      "cell_type": "code",
      "metadata": {
        "id": "eAlre-DGLqFe"
      },
      "source": [
        ""
      ],
      "execution_count": null,
      "outputs": []
    },
    {
      "cell_type": "code",
      "metadata": {
        "id": "Si5RYZ0RLqC-"
      },
      "source": [
        ""
      ],
      "execution_count": null,
      "outputs": []
    },
    {
      "cell_type": "code",
      "metadata": {
        "id": "YZz6OQMM6NOL"
      },
      "source": [
        "for k,v in counter.items():\n",
        "  if v <= 6:\n",
        "    del counter[k]"
      ],
      "execution_count": null,
      "outputs": []
    },
    {
      "cell_type": "code",
      "metadata": {
        "colab": {
          "base_uri": "https://localhost:8080/",
          "height": 158
        },
        "id": "fT8j8ZaR8URO",
        "outputId": "b8f29d6f-80ad-41ce-b997-3b3c190f304d"
      },
      "source": [
        "len(counter)"
      ],
      "execution_count": null,
      "outputs": [
        {
          "output_type": "error",
          "ename": "TypeError",
          "evalue": "ignored",
          "traceback": [
            "\u001b[0;31m---------------------------------------------------------------------------\u001b[0m",
            "\u001b[0;31mTypeError\u001b[0m                                 Traceback (most recent call last)",
            "\u001b[0;32m<ipython-input-95-f553fa2346c2>\u001b[0m in \u001b[0;36m<module>\u001b[0;34m()\u001b[0m\n\u001b[0;32m----> 1\u001b[0;31m \u001b[0mlen\u001b[0m\u001b[0;34m(\u001b[0m\u001b[0mcounter\u001b[0m\u001b[0;34m)\u001b[0m\u001b[0;34m\u001b[0m\u001b[0;34m\u001b[0m\u001b[0m\n\u001b[0m",
            "\u001b[0;31mTypeError\u001b[0m: object of type 'int' has no len()"
          ]
        }
      ]
    },
    {
      "cell_type": "code",
      "metadata": {
        "id": "ay0DbMRubI90"
      },
      "source": [
        "X_final = pd.read_csv(\"/content/drive/MyDrive/Amazon_ML_Challenge/X_final.csv\").drop(\"Unnamed: 0\",axis = 1)\n",
        "y_final = pd.read_csv(\"/content/drive/MyDrive/Amazon_ML_Challenge/y_final.csv\").drop(\"Unnamed: 0\",axis = 1)"
      ],
      "execution_count": null,
      "outputs": []
    },
    {
      "cell_type": "code",
      "metadata": {
        "id": "V9iOIQI_9cri"
      },
      "source": [
        "df = pd.concat([X_final,y_final],axis = 1)\n",
        "df.columns = [\"INPUT\",\"BROWSE_NODE_ID\"]"
      ],
      "execution_count": null,
      "outputs": []
    },
    {
      "cell_type": "code",
      "metadata": {
        "id": "mUYEUy3j9chT"
      },
      "source": [
        "count = df[\"BROWSE_NODE_ID\"].value_counts()"
      ],
      "execution_count": null,
      "outputs": []
    },
    {
      "cell_type": "code",
      "metadata": {
        "id": "xyehTlfM9cfI",
        "colab": {
          "base_uri": "https://localhost:8080/"
        },
        "outputId": "0fdf4140-4cb7-4bce-825d-9aa78bddc102"
      },
      "source": [
        "len(np.unique(df[\"BROWSE_NODE_ID\"]))"
      ],
      "execution_count": null,
      "outputs": [
        {
          "output_type": "execute_result",
          "data": {
            "text/plain": [
              "9891"
            ]
          },
          "metadata": {
            "tags": []
          },
          "execution_count": 31
        }
      ]
    },
    {
      "cell_type": "code",
      "metadata": {
        "id": "CgEazgT9dSH0"
      },
      "source": [
        "d = dict(count)"
      ],
      "execution_count": null,
      "outputs": []
    },
    {
      "cell_type": "code",
      "metadata": {
        "id": "ejAugcjD9ccZ"
      },
      "source": [
        "arr = sorted(d.items(), key=lambda x: x[1], reverse=True)"
      ],
      "execution_count": null,
      "outputs": []
    },
    {
      "cell_type": "code",
      "metadata": {
        "colab": {
          "base_uri": "https://localhost:8080/"
        },
        "id": "CtWI1DjRdueJ",
        "outputId": "79ce84c3-0add-4264-9c93-fae7af8275b0"
      },
      "source": [
        "arr[int(len(arr)/6)]"
      ],
      "execution_count": null,
      "outputs": [
        {
          "output_type": "execute_result",
          "data": {
            "text/plain": [
              "(304, 196)"
            ]
          },
          "metadata": {
            "tags": []
          },
          "execution_count": 58
        }
      ]
    },
    {
      "cell_type": "code",
      "metadata": {
        "id": "YE9ha80hducZ"
      },
      "source": [
        "majority_labels = (y_final.groupby(\"BROWSE_NODE_ID\").filter(lambda x: len(x) > 145))[\"BROWSE_NODE_ID\"].unique()"
      ],
      "execution_count": null,
      "outputs": []
    },
    {
      "cell_type": "code",
      "metadata": {
        "id": "1-ZLY9fJe1YS"
      },
      "source": [
        "minority_labels = (y_final.groupby(\"BROWSE_NODE_ID\").filter(lambda x: len(x) < 196 ))[\"BROWSE_NODE_ID\"].unique()"
      ],
      "execution_count": null,
      "outputs": []
    },
    {
      "cell_type": "code",
      "metadata": {
        "id": "XOx6qB5Xduai"
      },
      "source": [
        "majority_indices = y_final[y_final[\"BROWSE_NODE_ID\"].isin(majority_labels)].index"
      ],
      "execution_count": null,
      "outputs": []
    },
    {
      "cell_type": "code",
      "metadata": {
        "id": "7JNNFcSUduYR"
      },
      "source": [
        "minority_indices = y_final[y_final[\"BROWSE_NODE_ID\"].isin(minority_labels)].index"
      ],
      "execution_count": null,
      "outputs": []
    },
    {
      "cell_type": "code",
      "metadata": {
        "id": "-P8nkeThduVp"
      },
      "source": [
        "minority_indices"
      ],
      "execution_count": null,
      "outputs": []
    },
    {
      "cell_type": "code",
      "metadata": {
        "id": "hzYLbg1lduT4"
      },
      "source": [
        "majority_input = df.iloc[majority_indices]"
      ],
      "execution_count": null,
      "outputs": []
    },
    {
      "cell_type": "code",
      "metadata": {
        "colab": {
          "base_uri": "https://localhost:8080/"
        },
        "id": "tztnth4JduR3",
        "outputId": "11d09855-b597-444c-ee53-76deddb6fc3d"
      },
      "source": [
        "majority_input[\"INPUT\"] = \"__label__\" + majority_input[\"BROWSE_NODE_ID\"].map(str) + \" \" + majority_input[\"INPUT\"].map(str)"
      ],
      "execution_count": null,
      "outputs": [
        {
          "output_type": "stream",
          "text": [
            "/usr/local/lib/python3.7/dist-packages/ipykernel_launcher.py:1: SettingWithCopyWarning: \n",
            "A value is trying to be set on a copy of a slice from a DataFrame.\n",
            "Try using .loc[row_indexer,col_indexer] = value instead\n",
            "\n",
            "See the caveats in the documentation: https://pandas.pydata.org/pandas-docs/stable/user_guide/indexing.html#returning-a-view-versus-a-copy\n",
            "  \"\"\"Entry point for launching an IPython kernel.\n"
          ],
          "name": "stderr"
        }
      ]
    },
    {
      "cell_type": "code",
      "metadata": {
        "colab": {
          "base_uri": "https://localhost:8080/"
        },
        "id": "5DeCnrhpgvQx",
        "outputId": "1232ea6a-80dc-4bee-e31b-b47935505187"
      },
      "source": [
        "majority_input.drop(\"BROWSE_NODE_ID\",axis = 1,inplace=True)"
      ],
      "execution_count": null,
      "outputs": [
        {
          "output_type": "stream",
          "text": [
            "/usr/local/lib/python3.7/dist-packages/pandas/core/frame.py:4174: SettingWithCopyWarning: \n",
            "A value is trying to be set on a copy of a slice from a DataFrame\n",
            "\n",
            "See the caveats in the documentation: https://pandas.pydata.org/pandas-docs/stable/user_guide/indexing.html#returning-a-view-versus-a-copy\n",
            "  errors=errors,\n"
          ],
          "name": "stderr"
        }
      ]
    },
    {
      "cell_type": "code",
      "metadata": {
        "id": "cV-_JL_BgvPC"
      },
      "source": [
        "majority_input.to_csv(\"/content/drive/MyDrive/Amazon_ML_Challenge/majority_input.csv\",header=False,index=False)"
      ],
      "execution_count": null,
      "outputs": []
    },
    {
      "cell_type": "code",
      "metadata": {
        "colab": {
          "base_uri": "https://localhost:8080/"
        },
        "id": "UgnCkTxmgvM2",
        "outputId": "3f1e97e5-e675-4f91-9ab6-58afb651846e"
      },
      "source": [
        "minority_input = df.iloc[minority_indices]\n",
        "minority_input[\"INPUT\"] = \"__label__\" + minority_input[\"BROWSE_NODE_ID\"].map(str) + \" \" + minority_input[\"INPUT\"].map(str)\n",
        "minority_input.drop(\"BROWSE_NODE_ID\",axis = 1,inplace=True)\n",
        "minority_input.to_csv(\"/content/drive/MyDrive/Amazon_ML_Challenge/minority_input.csv\",header=False,index=False)"
      ],
      "execution_count": null,
      "outputs": [
        {
          "output_type": "stream",
          "text": [
            "/usr/local/lib/python3.7/dist-packages/ipykernel_launcher.py:2: SettingWithCopyWarning: \n",
            "A value is trying to be set on a copy of a slice from a DataFrame.\n",
            "Try using .loc[row_indexer,col_indexer] = value instead\n",
            "\n",
            "See the caveats in the documentation: https://pandas.pydata.org/pandas-docs/stable/user_guide/indexing.html#returning-a-view-versus-a-copy\n",
            "  \n",
            "/usr/local/lib/python3.7/dist-packages/pandas/core/frame.py:4174: SettingWithCopyWarning: \n",
            "A value is trying to be set on a copy of a slice from a DataFrame\n",
            "\n",
            "See the caveats in the documentation: https://pandas.pydata.org/pandas-docs/stable/user_guide/indexing.html#returning-a-view-versus-a-copy\n",
            "  errors=errors,\n"
          ],
          "name": "stderr"
        }
      ]
    },
    {
      "cell_type": "code",
      "metadata": {
        "id": "WnURnT7qhZji"
      },
      "source": [
        "majority_df = pd.read_csv(\"/content/drive/MyDrive/Amazon_ML_Challenge/majority_predictions.txt\", sep = \" \",header=None)"
      ],
      "execution_count": null,
      "outputs": []
    },
    {
      "cell_type": "code",
      "metadata": {
        "colab": {
          "base_uri": "https://localhost:8080/",
          "height": 200
        },
        "id": "HQ4ult5_hZg9",
        "outputId": "b2bdb66b-60cd-4794-d5e5-7913743d2341"
      },
      "source": [
        "majority_df.head()"
      ],
      "execution_count": null,
      "outputs": [
        {
          "output_type": "execute_result",
          "data": {
            "text/html": [
              "<div>\n",
              "<style scoped>\n",
              "    .dataframe tbody tr th:only-of-type {\n",
              "        vertical-align: middle;\n",
              "    }\n",
              "\n",
              "    .dataframe tbody tr th {\n",
              "        vertical-align: top;\n",
              "    }\n",
              "\n",
              "    .dataframe thead th {\n",
              "        text-align: right;\n",
              "    }\n",
              "</style>\n",
              "<table border=\"1\" class=\"dataframe\">\n",
              "  <thead>\n",
              "    <tr style=\"text-align: right;\">\n",
              "      <th></th>\n",
              "      <th>0</th>\n",
              "      <th>1</th>\n",
              "    </tr>\n",
              "  </thead>\n",
              "  <tbody>\n",
              "    <tr>\n",
              "      <th>0</th>\n",
              "      <td>__label__1140</td>\n",
              "      <td>0.651365</td>\n",
              "    </tr>\n",
              "    <tr>\n",
              "      <th>1</th>\n",
              "      <td>__label__2321</td>\n",
              "      <td>0.256842</td>\n",
              "    </tr>\n",
              "    <tr>\n",
              "      <th>2</th>\n",
              "      <td>__label__11</td>\n",
              "      <td>0.031154</td>\n",
              "    </tr>\n",
              "    <tr>\n",
              "      <th>3</th>\n",
              "      <td>__label__125</td>\n",
              "      <td>0.987578</td>\n",
              "    </tr>\n",
              "    <tr>\n",
              "      <th>4</th>\n",
              "      <td>__label__7644</td>\n",
              "      <td>0.826722</td>\n",
              "    </tr>\n",
              "  </tbody>\n",
              "</table>\n",
              "</div>"
            ],
            "text/plain": [
              "               0         1\n",
              "0  __label__1140  0.651365\n",
              "1  __label__2321  0.256842\n",
              "2    __label__11  0.031154\n",
              "3   __label__125  0.987578\n",
              "4  __label__7644  0.826722"
            ]
          },
          "metadata": {
            "tags": []
          },
          "execution_count": 114
        }
      ]
    },
    {
      "cell_type": "code",
      "metadata": {
        "id": "f6_qnAnUhZej"
      },
      "source": [
        "minority_df = pd.read_csv(\"/content/drive/MyDrive/Amazon_ML_Challenge/minority_predictions.txt\", sep = \" \",header=None)"
      ],
      "execution_count": null,
      "outputs": []
    },
    {
      "cell_type": "code",
      "metadata": {
        "colab": {
          "base_uri": "https://localhost:8080/",
          "height": 200
        },
        "id": "tmTd0qeam7KI",
        "outputId": "b6029c8a-661f-44fd-ed03-eb49995f997c"
      },
      "source": [
        "minority_df.head()"
      ],
      "execution_count": null,
      "outputs": [
        {
          "output_type": "execute_result",
          "data": {
            "text/html": [
              "<div>\n",
              "<style scoped>\n",
              "    .dataframe tbody tr th:only-of-type {\n",
              "        vertical-align: middle;\n",
              "    }\n",
              "\n",
              "    .dataframe tbody tr th {\n",
              "        vertical-align: top;\n",
              "    }\n",
              "\n",
              "    .dataframe thead th {\n",
              "        text-align: right;\n",
              "    }\n",
              "</style>\n",
              "<table border=\"1\" class=\"dataframe\">\n",
              "  <thead>\n",
              "    <tr style=\"text-align: right;\">\n",
              "      <th></th>\n",
              "      <th>0</th>\n",
              "      <th>1</th>\n",
              "    </tr>\n",
              "  </thead>\n",
              "  <tbody>\n",
              "    <tr>\n",
              "      <th>0</th>\n",
              "      <td>__label__1000</td>\n",
              "      <td>0.144159</td>\n",
              "    </tr>\n",
              "    <tr>\n",
              "      <th>1</th>\n",
              "      <td>__label__37798</td>\n",
              "      <td>0.055015</td>\n",
              "    </tr>\n",
              "    <tr>\n",
              "      <th>2</th>\n",
              "      <td>__label__58420</td>\n",
              "      <td>0.004080</td>\n",
              "    </tr>\n",
              "    <tr>\n",
              "      <th>3</th>\n",
              "      <td>__label__20919</td>\n",
              "      <td>0.095359</td>\n",
              "    </tr>\n",
              "    <tr>\n",
              "      <th>4</th>\n",
              "      <td>__label__23360</td>\n",
              "      <td>0.348655</td>\n",
              "    </tr>\n",
              "  </tbody>\n",
              "</table>\n",
              "</div>"
            ],
            "text/plain": [
              "                0         1\n",
              "0   __label__1000  0.144159\n",
              "1  __label__37798  0.055015\n",
              "2  __label__58420  0.004080\n",
              "3  __label__20919  0.095359\n",
              "4  __label__23360  0.348655"
            ]
          },
          "metadata": {
            "tags": []
          },
          "execution_count": 116
        }
      ]
    },
    {
      "cell_type": "code",
      "metadata": {
        "id": "-G5ppCn2m-YO"
      },
      "source": [
        "minority_df.columns = [\"LABEL\", \"PROB\"]\n",
        "majority_df.columns = [\"LABEL\", \"PROB\"]"
      ],
      "execution_count": null,
      "outputs": []
    },
    {
      "cell_type": "code",
      "metadata": {
        "id": "78Cmltr_m-V1"
      },
      "source": [
        "final_pred = []\n",
        "for i in range(len(majority_pred)):\n",
        "  if majority_pred[\"PROB\"][i] >= minority_pred[\"PROB\"][i]:\n",
        "    final_pred.append(majority_pred[\"LABEL\"][i])\n",
        "  else:\n",
        "    final_pred.append(minority_pred[\"LABEL\"][i])\n",
        "\n"
      ],
      "execution_count": null,
      "outputs": []
    },
    {
      "cell_type": "code",
      "metadata": {
        "id": "ogNEvifJnJNY"
      },
      "source": [
        "final_pred_df = pd.DataFrame(final_pred)"
      ],
      "execution_count": null,
      "outputs": []
    },
    {
      "cell_type": "code",
      "metadata": {
        "colab": {
          "base_uri": "https://localhost:8080/",
          "height": 408
        },
        "id": "EcNeXy8R66RV",
        "outputId": "a35ddb7c-4eb2-476d-a56a-562432e9e8ce"
      },
      "source": [
        "final_pred_df"
      ],
      "execution_count": null,
      "outputs": [
        {
          "output_type": "execute_result",
          "data": {
            "text/html": [
              "<div>\n",
              "<style scoped>\n",
              "    .dataframe tbody tr th:only-of-type {\n",
              "        vertical-align: middle;\n",
              "    }\n",
              "\n",
              "    .dataframe tbody tr th {\n",
              "        vertical-align: top;\n",
              "    }\n",
              "\n",
              "    .dataframe thead th {\n",
              "        text-align: right;\n",
              "    }\n",
              "</style>\n",
              "<table border=\"1\" class=\"dataframe\">\n",
              "  <thead>\n",
              "    <tr style=\"text-align: right;\">\n",
              "      <th></th>\n",
              "      <th>0</th>\n",
              "    </tr>\n",
              "  </thead>\n",
              "  <tbody>\n",
              "    <tr>\n",
              "      <th>0</th>\n",
              "      <td>1140</td>\n",
              "    </tr>\n",
              "    <tr>\n",
              "      <th>1</th>\n",
              "      <td>2321</td>\n",
              "    </tr>\n",
              "    <tr>\n",
              "      <th>2</th>\n",
              "      <td>11</td>\n",
              "    </tr>\n",
              "    <tr>\n",
              "      <th>3</th>\n",
              "      <td>125</td>\n",
              "    </tr>\n",
              "    <tr>\n",
              "      <th>4</th>\n",
              "      <td>7644</td>\n",
              "    </tr>\n",
              "    <tr>\n",
              "      <th>...</th>\n",
              "      <td>...</td>\n",
              "    </tr>\n",
              "    <tr>\n",
              "      <th>110770</th>\n",
              "      <td>4368</td>\n",
              "    </tr>\n",
              "    <tr>\n",
              "      <th>110771</th>\n",
              "      <td>13568</td>\n",
              "    </tr>\n",
              "    <tr>\n",
              "      <th>110772</th>\n",
              "      <td>800</td>\n",
              "    </tr>\n",
              "    <tr>\n",
              "      <th>110773</th>\n",
              "      <td>800</td>\n",
              "    </tr>\n",
              "    <tr>\n",
              "      <th>110774</th>\n",
              "      <td>800</td>\n",
              "    </tr>\n",
              "  </tbody>\n",
              "</table>\n",
              "<p>110775 rows × 1 columns</p>\n",
              "</div>"
            ],
            "text/plain": [
              "            0\n",
              "0        1140\n",
              "1        2321\n",
              "2          11\n",
              "3         125\n",
              "4        7644\n",
              "...       ...\n",
              "110770   4368\n",
              "110771  13568\n",
              "110772    800\n",
              "110773    800\n",
              "110774    800\n",
              "\n",
              "[110775 rows x 1 columns]"
            ]
          },
          "metadata": {
            "tags": []
          },
          "execution_count": 185
        }
      ]
    },
    {
      "cell_type": "code",
      "metadata": {
        "id": "zUzEOL6lnJLa"
      },
      "source": [
        "final_pred_df[0] = final_pred_df[0].str[9:]"
      ],
      "execution_count": null,
      "outputs": []
    },
    {
      "cell_type": "code",
      "metadata": {
        "id": "TDgOmmyBnJGy"
      },
      "source": [
        "final_pred_df.columns = [\"BROWSE_NODE_ID\"]"
      ],
      "execution_count": null,
      "outputs": []
    },
    {
      "cell_type": "code",
      "metadata": {
        "id": "5y9hQAYQLmoK"
      },
      "source": [
        "from imblearn.combine import SMOTEENN\n",
        "from imblearn.over_sampling import SMOTE\n",
        "trans = SMOTEENN(sampling_strategy='all', random_state = 42,smote = SMOTE())\n",
        "X_resampled4, y_resampled4 = trans.fit_sample(xtrain_tfidf, y_temp)"
      ],
      "execution_count": null,
      "outputs": []
    },
    {
      "cell_type": "code",
      "metadata": {
        "id": "hwWwLG1oLmma"
      },
      "source": [
        ""
      ],
      "execution_count": null,
      "outputs": []
    },
    {
      "cell_type": "code",
      "metadata": {
        "id": "CdviR5GeLmju"
      },
      "source": [
        ""
      ],
      "execution_count": null,
      "outputs": []
    },
    {
      "cell_type": "code",
      "metadata": {
        "id": "niuLHJ0ZLmhE"
      },
      "source": [
        ""
      ],
      "execution_count": null,
      "outputs": []
    },
    {
      "cell_type": "code",
      "metadata": {
        "id": "9iEHnD5GLmeO"
      },
      "source": [
        ""
      ],
      "execution_count": null,
      "outputs": []
    },
    {
      "cell_type": "code",
      "metadata": {
        "id": "bEDgVANWyWcd"
      },
      "source": [
        "# Fasttext Model on terminal"
      ],
      "execution_count": null,
      "outputs": []
    },
    {
      "cell_type": "code",
      "metadata": {
        "id": "2yA09dvvyWP1"
      },
      "source": [
        "./fasttext supervised -input ../trn_df.txt -output model_pbnc -loss hs -lr 0.5 -epoch 90\n",
        "./fasttext test model_pbnc.bin ../tst_df.txt\n",
        "./fasttext predict model_pbnc.bin ../final_test_data.txt > ../final_predictions.txt"
      ],
      "execution_count": null,
      "outputs": []
    },
    {
      "cell_type": "code",
      "metadata": {
        "id": "LETzvvw64fcv"
      },
      "source": [
        "# Preparing Output for Submission"
      ],
      "execution_count": null,
      "outputs": []
    },
    {
      "cell_type": "code",
      "metadata": {
        "id": "Ej0cGJe7rl_6"
      },
      "source": [
        "#test = pd.read_csv(\"/content/drive/MyDrive/Amazon_ML_Challenge/final_predictions4.txt\",sep=\"\\n\",header=None)\n",
        "final_submission = pd.concat([test_set[\"PRODUCT_ID\"],final_pred_df[0]],axis = 1)\n",
        "final_submission.columns = [\"PRODUCT_ID\",\"BROWSE_NODE_ID\"]"
      ],
      "execution_count": null,
      "outputs": []
    },
    {
      "cell_type": "code",
      "metadata": {
        "colab": {
          "base_uri": "https://localhost:8080/",
          "height": 200
        },
        "id": "Ud_CjKBes32q",
        "outputId": "44c3de07-d403-4e8c-b576-66da560d9dfb"
      },
      "source": [
        "final_submission.head()"
      ],
      "execution_count": null,
      "outputs": [
        {
          "output_type": "execute_result",
          "data": {
            "text/html": [
              "<div>\n",
              "<style scoped>\n",
              "    .dataframe tbody tr th:only-of-type {\n",
              "        vertical-align: middle;\n",
              "    }\n",
              "\n",
              "    .dataframe tbody tr th {\n",
              "        vertical-align: top;\n",
              "    }\n",
              "\n",
              "    .dataframe thead th {\n",
              "        text-align: right;\n",
              "    }\n",
              "</style>\n",
              "<table border=\"1\" class=\"dataframe\">\n",
              "  <thead>\n",
              "    <tr style=\"text-align: right;\">\n",
              "      <th></th>\n",
              "      <th>PRODUCT_ID</th>\n",
              "      <th>BROWSE_NODE_ID</th>\n",
              "    </tr>\n",
              "  </thead>\n",
              "  <tbody>\n",
              "    <tr>\n",
              "      <th>0</th>\n",
              "      <td>1</td>\n",
              "      <td>1140</td>\n",
              "    </tr>\n",
              "    <tr>\n",
              "      <th>1</th>\n",
              "      <td>2</td>\n",
              "      <td>2321</td>\n",
              "    </tr>\n",
              "    <tr>\n",
              "      <th>2</th>\n",
              "      <td>3</td>\n",
              "      <td>11</td>\n",
              "    </tr>\n",
              "    <tr>\n",
              "      <th>3</th>\n",
              "      <td>4</td>\n",
              "      <td>125</td>\n",
              "    </tr>\n",
              "    <tr>\n",
              "      <th>4</th>\n",
              "      <td>5</td>\n",
              "      <td>7644</td>\n",
              "    </tr>\n",
              "  </tbody>\n",
              "</table>\n",
              "</div>"
            ],
            "text/plain": [
              "   PRODUCT_ID BROWSE_NODE_ID\n",
              "0           1           1140\n",
              "1           2           2321\n",
              "2           3             11\n",
              "3           4            125\n",
              "4           5           7644"
            ]
          },
          "metadata": {
            "tags": []
          },
          "execution_count": 187
        }
      ]
    },
    {
      "cell_type": "code",
      "metadata": {
        "id": "dzlSLCb-v3GB"
      },
      "source": [
        "final_submission.to_csv(\"/content/drive/MyDrive/Amazon_ML_Challenge/final_submission9.csv\",index = False)"
      ],
      "execution_count": null,
      "outputs": []
    },
    {
      "cell_type": "code",
      "metadata": {
        "id": "ytJLlWKQSc6A"
      },
      "source": [
        "# SUBMISSION 2 --> 31.07.2021"
      ],
      "execution_count": null,
      "outputs": []
    },
    {
      "cell_type": "code",
      "metadata": {
        "id": "VeqC8vP_YGSQ"
      },
      "source": [
        "# Also considered all the NaN rows for training. Performed lemmatization as well. Along with a stratified train test split approach"
      ],
      "execution_count": null,
      "outputs": []
    },
    {
      "cell_type": "code",
      "metadata": {
        "id": "bhyTjeLwSc3r"
      },
      "source": [
        "test_set = pd.read_csv(\"/content/drive/MyDrive/Amazon_ML_Challenge/test.csv\",escapechar = \"\\\\\", quoting=csv.QUOTE_NONE)"
      ],
      "execution_count": null,
      "outputs": []
    },
    {
      "cell_type": "code",
      "metadata": {
        "colab": {
          "base_uri": "https://localhost:8080/",
          "height": 200
        },
        "id": "gwOeM4E5S_pA",
        "outputId": "40bce6b7-78ea-480e-a745-a7453a399abc"
      },
      "source": [
        "test_set.head()"
      ],
      "execution_count": null,
      "outputs": [
        {
          "output_type": "execute_result",
          "data": {
            "text/html": [
              "<div>\n",
              "<style scoped>\n",
              "    .dataframe tbody tr th:only-of-type {\n",
              "        vertical-align: middle;\n",
              "    }\n",
              "\n",
              "    .dataframe tbody tr th {\n",
              "        vertical-align: top;\n",
              "    }\n",
              "\n",
              "    .dataframe thead th {\n",
              "        text-align: right;\n",
              "    }\n",
              "</style>\n",
              "<table border=\"1\" class=\"dataframe\">\n",
              "  <thead>\n",
              "    <tr style=\"text-align: right;\">\n",
              "      <th></th>\n",
              "      <th>PRODUCT_ID</th>\n",
              "      <th>TITLE</th>\n",
              "      <th>DESCRIPTION</th>\n",
              "      <th>BULLET_POINTS</th>\n",
              "      <th>BRAND</th>\n",
              "    </tr>\n",
              "  </thead>\n",
              "  <tbody>\n",
              "    <tr>\n",
              "      <th>0</th>\n",
              "      <td>1</td>\n",
              "      <td>Command 3M Small Kitchen Hooks, White, Decorat...</td>\n",
              "      <td>Sale Unit: PACK</td>\n",
              "      <td>[INCLUDES - 9 hooks and 12 small indoor strips...</td>\n",
              "      <td>Command</td>\n",
              "    </tr>\n",
              "    <tr>\n",
              "      <th>1</th>\n",
              "      <td>2</td>\n",
              "      <td>O'Neal Jump Hardware JAG Unisex-Adult Glove (B...</td>\n",
              "      <td>Synthetic leather palm with double-layer thumb...</td>\n",
              "      <td>[Silicone printing for a better grip. Long las...</td>\n",
              "      <td>O'Neal</td>\n",
              "    </tr>\n",
              "    <tr>\n",
              "      <th>2</th>\n",
              "      <td>3</td>\n",
              "      <td>NFL Detroit Lions Portable Party Fridge, 15.8 ...</td>\n",
              "      <td>Boelter Brands lets you celebrate your favorit...</td>\n",
              "      <td>[Runs on 12 Volt DC Power or 110 Volt AC Power...</td>\n",
              "      <td>Boelter Brands</td>\n",
              "    </tr>\n",
              "    <tr>\n",
              "      <th>3</th>\n",
              "      <td>4</td>\n",
              "      <td>Panasonic Single Line KX-TS880MX Corded Phone ...</td>\n",
              "      <td>Features: 50 Station Phonebook Corded Phone Al...</td>\n",
              "      <td>Panasonic Landline Phones doesn't come with a ...</td>\n",
              "      <td>Panasonic</td>\n",
              "    </tr>\n",
              "    <tr>\n",
              "      <th>4</th>\n",
              "      <td>5</td>\n",
              "      <td>Zero Baby Girl's 100% Cotton Innerwear Bloomer...</td>\n",
              "      <td>Zero Baby Girl Panties Set. 100% Cotton, Breat...</td>\n",
              "      <td>[Zero Baby Girl Panties, Pack of 6, 100% Cotto...</td>\n",
              "      <td>Zero</td>\n",
              "    </tr>\n",
              "  </tbody>\n",
              "</table>\n",
              "</div>"
            ],
            "text/plain": [
              "   PRODUCT_ID  ...           BRAND\n",
              "0           1  ...         Command\n",
              "1           2  ...          O'Neal\n",
              "2           3  ...  Boelter Brands\n",
              "3           4  ...       Panasonic\n",
              "4           5  ...            Zero\n",
              "\n",
              "[5 rows x 5 columns]"
            ]
          },
          "metadata": {
            "tags": []
          },
          "execution_count": 7
        }
      ]
    },
    {
      "cell_type": "code",
      "metadata": {
        "id": "aKhjS4zMTBoO"
      },
      "source": [
        "temp = test_set.drop([\"PRODUCT_ID\"],axis = 1)"
      ],
      "execution_count": null,
      "outputs": []
    },
    {
      "cell_type": "code",
      "metadata": {
        "id": "GxWcT8ijTYf0"
      },
      "source": [
        "temp = temp.fillna(\"\")"
      ],
      "execution_count": null,
      "outputs": []
    },
    {
      "cell_type": "code",
      "metadata": {
        "id": "QJEVk0MBTaod"
      },
      "source": [
        "temp[\"input\"] = temp[\"TITLE\"] + \" \" + temp[\"DESCRIPTION\"] +  \" \" + temp[\"BULLET_POINTS\"] + \" \" + temp[\"BRAND\"]"
      ],
      "execution_count": null,
      "outputs": []
    },
    {
      "cell_type": "code",
      "metadata": {
        "id": "xJYxBDglTdww"
      },
      "source": [
        "temp = temp.drop([\"TITLE\",\"DESCRIPTION\",\"BULLET_POINTS\",\"BRAND\"],axis = 1)"
      ],
      "execution_count": null,
      "outputs": []
    },
    {
      "cell_type": "code",
      "metadata": {
        "colab": {
          "base_uri": "https://localhost:8080/",
          "height": 200
        },
        "id": "IX5LFrFETf6a",
        "outputId": "1e49080c-e841-48a3-9ca4-ccb902df41cf"
      },
      "source": [
        "temp.head()"
      ],
      "execution_count": null,
      "outputs": [
        {
          "output_type": "execute_result",
          "data": {
            "text/html": [
              "<div>\n",
              "<style scoped>\n",
              "    .dataframe tbody tr th:only-of-type {\n",
              "        vertical-align: middle;\n",
              "    }\n",
              "\n",
              "    .dataframe tbody tr th {\n",
              "        vertical-align: top;\n",
              "    }\n",
              "\n",
              "    .dataframe thead th {\n",
              "        text-align: right;\n",
              "    }\n",
              "</style>\n",
              "<table border=\"1\" class=\"dataframe\">\n",
              "  <thead>\n",
              "    <tr style=\"text-align: right;\">\n",
              "      <th></th>\n",
              "      <th>input</th>\n",
              "    </tr>\n",
              "  </thead>\n",
              "  <tbody>\n",
              "    <tr>\n",
              "      <th>0</th>\n",
              "      <td>Command 3M Small Kitchen Hooks, White, Decorat...</td>\n",
              "    </tr>\n",
              "    <tr>\n",
              "      <th>1</th>\n",
              "      <td>O'Neal Jump Hardware JAG Unisex-Adult Glove (B...</td>\n",
              "    </tr>\n",
              "    <tr>\n",
              "      <th>2</th>\n",
              "      <td>NFL Detroit Lions Portable Party Fridge, 15.8 ...</td>\n",
              "    </tr>\n",
              "    <tr>\n",
              "      <th>3</th>\n",
              "      <td>Panasonic Single Line KX-TS880MX Corded Phone ...</td>\n",
              "    </tr>\n",
              "    <tr>\n",
              "      <th>4</th>\n",
              "      <td>Zero Baby Girl's 100% Cotton Innerwear Bloomer...</td>\n",
              "    </tr>\n",
              "  </tbody>\n",
              "</table>\n",
              "</div>"
            ],
            "text/plain": [
              "                                               input\n",
              "0  Command 3M Small Kitchen Hooks, White, Decorat...\n",
              "1  O'Neal Jump Hardware JAG Unisex-Adult Glove (B...\n",
              "2  NFL Detroit Lions Portable Party Fridge, 15.8 ...\n",
              "3  Panasonic Single Line KX-TS880MX Corded Phone ...\n",
              "4  Zero Baby Girl's 100% Cotton Innerwear Bloomer..."
            ]
          },
          "metadata": {
            "tags": []
          },
          "execution_count": 22
        }
      ]
    },
    {
      "cell_type": "code",
      "metadata": {
        "id": "9dvQ0uOcTrli"
      },
      "source": [
        "import re"
      ],
      "execution_count": null,
      "outputs": []
    },
    {
      "cell_type": "code",
      "metadata": {
        "id": "mn2YTOOoTlzg"
      },
      "source": [
        "temp[\"input\"] = temp[\"input\"].apply(clean_html_punct)"
      ],
      "execution_count": null,
      "outputs": []
    },
    {
      "cell_type": "code",
      "metadata": {
        "colab": {
          "base_uri": "https://localhost:8080/",
          "height": 200
        },
        "id": "MwZNjmu5TnNK",
        "outputId": "13313204-ad91-422a-996f-a06da4aa5bef"
      },
      "source": [
        "temp.head()"
      ],
      "execution_count": null,
      "outputs": [
        {
          "output_type": "execute_result",
          "data": {
            "text/html": [
              "<div>\n",
              "<style scoped>\n",
              "    .dataframe tbody tr th:only-of-type {\n",
              "        vertical-align: middle;\n",
              "    }\n",
              "\n",
              "    .dataframe tbody tr th {\n",
              "        vertical-align: top;\n",
              "    }\n",
              "\n",
              "    .dataframe thead th {\n",
              "        text-align: right;\n",
              "    }\n",
              "</style>\n",
              "<table border=\"1\" class=\"dataframe\">\n",
              "  <thead>\n",
              "    <tr style=\"text-align: right;\">\n",
              "      <th></th>\n",
              "      <th>TITLE</th>\n",
              "      <th>DESCRIPTION</th>\n",
              "      <th>BULLET_POINTS</th>\n",
              "      <th>BRAND</th>\n",
              "    </tr>\n",
              "  </thead>\n",
              "  <tbody>\n",
              "    <tr>\n",
              "      <th>0</th>\n",
              "      <td>Command 3M Small Kitchen Hooks, White, Decorat...</td>\n",
              "      <td>Sale Unit: PACK</td>\n",
              "      <td>[INCLUDES - 9 hooks and 12 small indoor strips...</td>\n",
              "      <td>Command</td>\n",
              "    </tr>\n",
              "    <tr>\n",
              "      <th>1</th>\n",
              "      <td>O'Neal Jump Hardware JAG Unisex-Adult Glove (B...</td>\n",
              "      <td>Synthetic leather palm with double-layer thumb...</td>\n",
              "      <td>[Silicone printing for a better grip. Long las...</td>\n",
              "      <td>O'Neal</td>\n",
              "    </tr>\n",
              "    <tr>\n",
              "      <th>2</th>\n",
              "      <td>NFL Detroit Lions Portable Party Fridge, 15.8 ...</td>\n",
              "      <td>Boelter Brands lets you celebrate your favorit...</td>\n",
              "      <td>[Runs on 12 Volt DC Power or 110 Volt AC Power...</td>\n",
              "      <td>Boelter Brands</td>\n",
              "    </tr>\n",
              "    <tr>\n",
              "      <th>3</th>\n",
              "      <td>Panasonic Single Line KX-TS880MX Corded Phone ...</td>\n",
              "      <td>Features: 50 Station Phonebook Corded Phone Al...</td>\n",
              "      <td>Panasonic Landline Phones doesn't come with a ...</td>\n",
              "      <td>Panasonic</td>\n",
              "    </tr>\n",
              "    <tr>\n",
              "      <th>4</th>\n",
              "      <td>Zero Baby Girl's 100% Cotton Innerwear Bloomer...</td>\n",
              "      <td>Zero Baby Girl Panties Set. 100% Cotton, Breat...</td>\n",
              "      <td>[Zero Baby Girl Panties, Pack of 6, 100% Cotto...</td>\n",
              "      <td>Zero</td>\n",
              "    </tr>\n",
              "  </tbody>\n",
              "</table>\n",
              "</div>"
            ],
            "text/plain": [
              "                                               TITLE  ...           BRAND\n",
              "0  Command 3M Small Kitchen Hooks, White, Decorat...  ...         Command\n",
              "1  O'Neal Jump Hardware JAG Unisex-Adult Glove (B...  ...          O'Neal\n",
              "2  NFL Detroit Lions Portable Party Fridge, 15.8 ...  ...  Boelter Brands\n",
              "3  Panasonic Single Line KX-TS880MX Corded Phone ...  ...       Panasonic\n",
              "4  Zero Baby Girl's 100% Cotton Innerwear Bloomer...  ...            Zero\n",
              "\n",
              "[5 rows x 4 columns]"
            ]
          },
          "metadata": {
            "tags": []
          },
          "execution_count": 17
        }
      ]
    },
    {
      "cell_type": "code",
      "metadata": {
        "id": "YraMxSEJTvaH"
      },
      "source": [
        "temp[\"input\"] = temp[\"input\"].apply(remove_stop_words)"
      ],
      "execution_count": null,
      "outputs": []
    },
    {
      "cell_type": "code",
      "metadata": {
        "id": "2TkoPU-oUPBw"
      },
      "source": [
        "temp[\"input\"] = temp[\"input\"].apply(lemmatize)"
      ],
      "execution_count": null,
      "outputs": []
    },
    {
      "cell_type": "code",
      "metadata": {
        "id": "N9we8j-oUh1S"
      },
      "source": [
        "temp.to_csv(\"/content/drive/MyDrive/Amazon_ML_Challenge/test_set.csv\",header=False,index=False)"
      ],
      "execution_count": null,
      "outputs": []
    },
    {
      "cell_type": "code",
      "metadata": {
        "colab": {
          "base_uri": "https://localhost:8080/"
        },
        "id": "QEUk4_ZnU0dP",
        "outputId": "01988efc-bdd1-4588-c858-bd7a5831781a"
      },
      "source": [
        "len(temp)"
      ],
      "execution_count": null,
      "outputs": [
        {
          "output_type": "execute_result",
          "data": {
            "text/plain": [
              "110775"
            ]
          },
          "metadata": {
            "tags": []
          },
          "execution_count": 34
        }
      ]
    },
    {
      "cell_type": "code",
      "metadata": {
        "id": "x0jdj1etWyGv"
      },
      "source": [
        "#test = pd.read_csv(\"/content/drive/MyDrive/Amazon_ML_Challenge/predictions.txt\",sep=\"\\n\",header=None)\n",
        "final_submission = pd.concat([test_set[\"PRODUCT_ID\"],final_pred_df[\"BROWSE_NODE_ID\"]],axis = 1)\n",
        "final_submission.columns = [\"PRODUCT_ID\",\"BROWSE_NODE_ID\"]"
      ],
      "execution_count": null,
      "outputs": []
    },
    {
      "cell_type": "code",
      "metadata": {
        "colab": {
          "base_uri": "https://localhost:8080/",
          "height": 200
        },
        "id": "0lF1yut5XX4f",
        "outputId": "21c48d94-d07f-4efb-859b-e5c6f4baecf8"
      },
      "source": [
        "final_submission.head()"
      ],
      "execution_count": null,
      "outputs": [
        {
          "output_type": "execute_result",
          "data": {
            "text/html": [
              "<div>\n",
              "<style scoped>\n",
              "    .dataframe tbody tr th:only-of-type {\n",
              "        vertical-align: middle;\n",
              "    }\n",
              "\n",
              "    .dataframe tbody tr th {\n",
              "        vertical-align: top;\n",
              "    }\n",
              "\n",
              "    .dataframe thead th {\n",
              "        text-align: right;\n",
              "    }\n",
              "</style>\n",
              "<table border=\"1\" class=\"dataframe\">\n",
              "  <thead>\n",
              "    <tr style=\"text-align: right;\">\n",
              "      <th></th>\n",
              "      <th>PRODUCT_ID</th>\n",
              "      <th>BROWSE_NODE_ID</th>\n",
              "    </tr>\n",
              "  </thead>\n",
              "  <tbody>\n",
              "    <tr>\n",
              "      <th>0</th>\n",
              "      <td>1</td>\n",
              "      <td>1140</td>\n",
              "    </tr>\n",
              "    <tr>\n",
              "      <th>1</th>\n",
              "      <td>2</td>\n",
              "      <td>2321</td>\n",
              "    </tr>\n",
              "    <tr>\n",
              "      <th>2</th>\n",
              "      <td>3</td>\n",
              "      <td>11</td>\n",
              "    </tr>\n",
              "    <tr>\n",
              "      <th>3</th>\n",
              "      <td>4</td>\n",
              "      <td>125</td>\n",
              "    </tr>\n",
              "    <tr>\n",
              "      <th>4</th>\n",
              "      <td>5</td>\n",
              "      <td>7644</td>\n",
              "    </tr>\n",
              "  </tbody>\n",
              "</table>\n",
              "</div>"
            ],
            "text/plain": [
              "   PRODUCT_ID BROWSE_NODE_ID\n",
              "0           1           1140\n",
              "1           2           2321\n",
              "2           3             11\n",
              "3           4            125\n",
              "4           5           7644"
            ]
          },
          "metadata": {
            "tags": []
          },
          "execution_count": 123
        }
      ]
    },
    {
      "cell_type": "code",
      "metadata": {
        "id": "7qqVjlBbXb30"
      },
      "source": [
        "final_submission.to_csv(\"/content/drive/MyDrive/Amazon_ML_Challenge/final_submission7.csv\",index = False)"
      ],
      "execution_count": null,
      "outputs": []
    },
    {
      "cell_type": "code",
      "metadata": {
        "id": "Jv99XBGM154e"
      },
      "source": [
        "best_pred_df = pd.read_csv(\"/content/drive/MyDrive/Amazon_ML_Challenge/best_pred.txt\")"
      ],
      "execution_count": null,
      "outputs": []
    },
    {
      "cell_type": "code",
      "metadata": {
        "colab": {
          "base_uri": "https://localhost:8080/",
          "height": 200
        },
        "id": "Kh_AuKA-1510",
        "outputId": "211b95da-781c-483e-eca7-a0dde966b112"
      },
      "source": [
        "best_pred_df.head()"
      ],
      "execution_count": null,
      "outputs": [
        {
          "output_type": "execute_result",
          "data": {
            "text/html": [
              "<div>\n",
              "<style scoped>\n",
              "    .dataframe tbody tr th:only-of-type {\n",
              "        vertical-align: middle;\n",
              "    }\n",
              "\n",
              "    .dataframe tbody tr th {\n",
              "        vertical-align: top;\n",
              "    }\n",
              "\n",
              "    .dataframe thead th {\n",
              "        text-align: right;\n",
              "    }\n",
              "</style>\n",
              "<table border=\"1\" class=\"dataframe\">\n",
              "  <thead>\n",
              "    <tr style=\"text-align: right;\">\n",
              "      <th></th>\n",
              "      <th>PRODUCT_ID</th>\n",
              "      <th>BROWSE_NODE_ID</th>\n",
              "    </tr>\n",
              "  </thead>\n",
              "  <tbody>\n",
              "    <tr>\n",
              "      <th>0</th>\n",
              "      <td>1</td>\n",
              "      <td>1140</td>\n",
              "    </tr>\n",
              "    <tr>\n",
              "      <th>1</th>\n",
              "      <td>2</td>\n",
              "      <td>3329</td>\n",
              "    </tr>\n",
              "    <tr>\n",
              "      <th>2</th>\n",
              "      <td>3</td>\n",
              "      <td>113</td>\n",
              "    </tr>\n",
              "    <tr>\n",
              "      <th>3</th>\n",
              "      <td>4</td>\n",
              "      <td>125</td>\n",
              "    </tr>\n",
              "    <tr>\n",
              "      <th>4</th>\n",
              "      <td>5</td>\n",
              "      <td>7644</td>\n",
              "    </tr>\n",
              "  </tbody>\n",
              "</table>\n",
              "</div>"
            ],
            "text/plain": [
              "   PRODUCT_ID  BROWSE_NODE_ID\n",
              "0           1            1140\n",
              "1           2            3329\n",
              "2           3             113\n",
              "3           4             125\n",
              "4           5            7644"
            ]
          },
          "metadata": {
            "tags": []
          },
          "execution_count": 128
        }
      ]
    },
    {
      "cell_type": "code",
      "metadata": {
        "id": "cc620afZXmCD"
      },
      "source": [
        "majority_pred = pd.read_csv(\"/content/drive/MyDrive/Amazon_ML_Challenge/majority_predictions.txt\",sep=\" \",header=None)"
      ],
      "execution_count": null,
      "outputs": []
    },
    {
      "cell_type": "code",
      "metadata": {
        "id": "NkHZZb1m2nrS"
      },
      "source": [
        "majority_pred[0] = majority_pred[0].str[9:]"
      ],
      "execution_count": null,
      "outputs": []
    },
    {
      "cell_type": "code",
      "metadata": {
        "id": "qQdvT0Ry2pRB"
      },
      "source": [
        "majority_pred.columns = [\"LABEL\",\"PROB\"]"
      ],
      "execution_count": null,
      "outputs": []
    },
    {
      "cell_type": "code",
      "metadata": {
        "colab": {
          "base_uri": "https://localhost:8080/",
          "height": 126
        },
        "id": "5UgA-4Wu3CzS",
        "outputId": "7bb4ae8c-984b-4ab9-b6ae-0f32888a9cd3"
      },
      "source": [
        "majority_pred.head()\n",
        "majority_pred[\"LABEL\"] = majority_pred[\"LABEL\"].apply(labmda x: int(x) )"
      ],
      "execution_count": null,
      "outputs": [
        {
          "output_type": "error",
          "ename": "SyntaxError",
          "evalue": "ignored",
          "traceback": [
            "\u001b[0;36m  File \u001b[0;32m\"<ipython-input-167-c524e514dfac>\"\u001b[0;36m, line \u001b[0;32m2\u001b[0m\n\u001b[0;31m    majority_pred[\"LABEL\"] = majority_pred[\"LABEL\"].apply(labmda x: int(x) )\u001b[0m\n\u001b[0m                                                                 ^\u001b[0m\n\u001b[0;31mSyntaxError\u001b[0m\u001b[0;31m:\u001b[0m invalid syntax\n"
          ]
        }
      ]
    },
    {
      "cell_type": "code",
      "metadata": {
        "colab": {
          "base_uri": "https://localhost:8080/",
          "height": 200
        },
        "id": "5P118Zh63E0_",
        "outputId": "caa1bc7c-9a78-4a93-cb98-2734467409ef"
      },
      "source": [
        "minority_pred = pd.read_csv(\"/content/drive/MyDrive/Amazon_ML_Challenge/minority_predictions.txt\",sep=\" \",header=None)\n",
        "minority_pred[0] = minority_pred[0].str[9:]\n",
        "minority_pred.columns = [\"LABEL\",\"PROB\"]\n",
        "minority_pred.head()"
      ],
      "execution_count": null,
      "outputs": [
        {
          "output_type": "execute_result",
          "data": {
            "text/html": [
              "<div>\n",
              "<style scoped>\n",
              "    .dataframe tbody tr th:only-of-type {\n",
              "        vertical-align: middle;\n",
              "    }\n",
              "\n",
              "    .dataframe tbody tr th {\n",
              "        vertical-align: top;\n",
              "    }\n",
              "\n",
              "    .dataframe thead th {\n",
              "        text-align: right;\n",
              "    }\n",
              "</style>\n",
              "<table border=\"1\" class=\"dataframe\">\n",
              "  <thead>\n",
              "    <tr style=\"text-align: right;\">\n",
              "      <th></th>\n",
              "      <th>LABEL</th>\n",
              "      <th>PROB</th>\n",
              "    </tr>\n",
              "  </thead>\n",
              "  <tbody>\n",
              "    <tr>\n",
              "      <th>0</th>\n",
              "      <td>1000</td>\n",
              "      <td>0.144159</td>\n",
              "    </tr>\n",
              "    <tr>\n",
              "      <th>1</th>\n",
              "      <td>37798</td>\n",
              "      <td>0.055015</td>\n",
              "    </tr>\n",
              "    <tr>\n",
              "      <th>2</th>\n",
              "      <td>58420</td>\n",
              "      <td>0.004080</td>\n",
              "    </tr>\n",
              "    <tr>\n",
              "      <th>3</th>\n",
              "      <td>20919</td>\n",
              "      <td>0.095359</td>\n",
              "    </tr>\n",
              "    <tr>\n",
              "      <th>4</th>\n",
              "      <td>23360</td>\n",
              "      <td>0.348655</td>\n",
              "    </tr>\n",
              "  </tbody>\n",
              "</table>\n",
              "</div>"
            ],
            "text/plain": [
              "   LABEL      PROB\n",
              "0   1000  0.144159\n",
              "1  37798  0.055015\n",
              "2  58420  0.004080\n",
              "3  20919  0.095359\n",
              "4  23360  0.348655"
            ]
          },
          "metadata": {
            "tags": []
          },
          "execution_count": 138
        }
      ]
    },
    {
      "cell_type": "code",
      "metadata": {
        "id": "2GGk-JlN3Hug"
      },
      "source": [
        "ground_truth = []\n",
        "for i in range(len(majority_pred)):\n",
        "  if majority_pred[\"PROB\"][i]>=minority_pred[\"PROB\"][i]:\n",
        "          temp = majority_pred[\"LABEL\"][i]\n",
        "  else:\n",
        "          temp = minority_pred[\"LABEL\"][i]\n",
        "  if temp == str(best_pred_df[\"BROWSE_NODE_ID\"][i]):\n",
        "          ground_truth.append(\"SAME\")\n",
        "  elif majority_pred[\"PROB\"][i]>=minority_pred[\"PROB\"][i]:\n",
        "          ground_truth.append(\"Majority\")\n",
        "  else:\n",
        "          ground_truth.append(\"Minority\")"
      ],
      "execution_count": null,
      "outputs": []
    },
    {
      "cell_type": "code",
      "metadata": {
        "id": "uF4xR2Ml3HpP"
      },
      "source": [
        "maj = 0\n",
        "min = 0\n",
        "same = 0\n",
        "for i in range(len(ground_truth)):\n",
        "  if ground_truth[i] == \"Majority\":\n",
        "    maj += 1\n",
        "  elif ground_truth[i] == \"Minority\":\n",
        "    min += 1\n",
        "  elif ground_truth[i] == \"SAME\":\n",
        "    same += 1\n"
      ],
      "execution_count": null,
      "outputs": []
    },
    {
      "cell_type": "code",
      "metadata": {
        "colab": {
          "base_uri": "https://localhost:8080/"
        },
        "id": "9UZ4N47x5g9p",
        "outputId": "4597504f-adf7-4b78-b17e-3b63599c7a1c"
      },
      "source": [
        "int(\"1\")"
      ],
      "execution_count": null,
      "outputs": [
        {
          "output_type": "execute_result",
          "data": {
            "text/plain": [
              "1"
            ]
          },
          "metadata": {
            "tags": []
          },
          "execution_count": 161
        }
      ]
    },
    {
      "cell_type": "code",
      "metadata": {
        "colab": {
          "base_uri": "https://localhost:8080/"
        },
        "id": "FkWFoImm5N5m",
        "outputId": "92f61931-8f13-4023-b6fb-141180b8f0f1"
      },
      "source": [
        "majority_pred[\"LABEL\"][0]"
      ],
      "execution_count": null,
      "outputs": [
        {
          "output_type": "execute_result",
          "data": {
            "text/plain": [
              "str"
            ]
          },
          "metadata": {
            "tags": []
          },
          "execution_count": 160
        }
      ]
    },
    {
      "cell_type": "code",
      "metadata": {
        "colab": {
          "base_uri": "https://localhost:8080/"
        },
        "id": "Vh5o88rO4_N6",
        "outputId": "b7eca389-dd87-4b92-9145-19eac13a6b75"
      },
      "source": [
        "len(ground_truth)"
      ],
      "execution_count": null,
      "outputs": [
        {
          "output_type": "execute_result",
          "data": {
            "text/plain": [
              "110775"
            ]
          },
          "metadata": {
            "tags": []
          },
          "execution_count": 155
        }
      ]
    },
    {
      "cell_type": "code",
      "metadata": {
        "colab": {
          "base_uri": "https://localhost:8080/"
        },
        "id": "VY_KkMtm3h6P",
        "outputId": "4afd5ea1-047e-4e4b-86d7-28003b6b012e"
      },
      "source": [
        "maj"
      ],
      "execution_count": null,
      "outputs": [
        {
          "output_type": "execute_result",
          "data": {
            "text/plain": [
              "20207"
            ]
          },
          "metadata": {
            "tags": []
          },
          "execution_count": 171
        }
      ]
    },
    {
      "cell_type": "code",
      "metadata": {
        "colab": {
          "base_uri": "https://localhost:8080/"
        },
        "id": "yiIB0Oq53h4W",
        "outputId": "2dd4f409-60b8-4f10-c2a1-2b737a745188"
      },
      "source": [
        "min"
      ],
      "execution_count": null,
      "outputs": [
        {
          "output_type": "execute_result",
          "data": {
            "text/plain": [
              "9907"
            ]
          },
          "metadata": {
            "tags": []
          },
          "execution_count": 172
        }
      ]
    },
    {
      "cell_type": "code",
      "metadata": {
        "colab": {
          "base_uri": "https://localhost:8080/"
        },
        "id": "i4rLtJkQ3h2c",
        "outputId": "11714c9d-9db6-4281-a4dd-24d163c4afc2"
      },
      "source": [
        "same"
      ],
      "execution_count": null,
      "outputs": [
        {
          "output_type": "execute_result",
          "data": {
            "text/plain": [
              "80661"
            ]
          },
          "metadata": {
            "tags": []
          },
          "execution_count": 170
        }
      ]
    },
    {
      "cell_type": "code",
      "metadata": {
        "id": "r0E6ntbm3h0A"
      },
      "source": [
        "for i in range(len(ground_truth)):\n",
        "  if ground_truth[i] == \"Minority\":\n",
        "    final_pred[i] = str(best_pred_df[\"BROWSE_NODE_ID\"][i])"
      ],
      "execution_count": null,
      "outputs": []
    },
    {
      "cell_type": "code",
      "metadata": {
        "id": "3NosTSds6zfX"
      },
      "source": [
        ""
      ],
      "execution_count": null,
      "outputs": []
    }
  ]
}